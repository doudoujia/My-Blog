{
 "cells": [
  {
   "cell_type": "code",
   "execution_count": 1,
   "metadata": {},
   "outputs": [],
   "source": [
    "import pandas as pd\n",
    "import numpy as np"
   ]
  },
  {
   "cell_type": "code",
   "execution_count": 2,
   "metadata": {},
   "outputs": [],
   "source": [
    "stock_data = pd.read_csv(\"pair_ETF_0302.csv\")"
   ]
  },
  {
   "cell_type": "code",
   "execution_count": 3,
   "metadata": {},
   "outputs": [
    {
     "data": {
      "text/html": [
       "<div>\n",
       "<style scoped>\n",
       "    .dataframe tbody tr th:only-of-type {\n",
       "        vertical-align: middle;\n",
       "    }\n",
       "\n",
       "    .dataframe tbody tr th {\n",
       "        vertical-align: top;\n",
       "    }\n",
       "\n",
       "    .dataframe thead th {\n",
       "        text-align: right;\n",
       "    }\n",
       "</style>\n",
       "<table border=\"1\" class=\"dataframe\">\n",
       "  <thead>\n",
       "    <tr style=\"text-align: right;\">\n",
       "      <th></th>\n",
       "      <th>pairs</th>\n",
       "      <th>ave_return</th>\n",
       "      <th>total_return</th>\n",
       "      <th>volatility</th>\n",
       "      <th>sharp_ratio</th>\n",
       "    </tr>\n",
       "  </thead>\n",
       "  <tbody>\n",
       "    <tr>\n",
       "      <th>0</th>\n",
       "      <td>('NYT', 'BANC')</td>\n",
       "      <td>-1683.602874</td>\n",
       "      <td>-15.167593</td>\n",
       "      <td>139.660600</td>\n",
       "      <td>-0.108603</td>\n",
       "    </tr>\n",
       "    <tr>\n",
       "      <th>1</th>\n",
       "      <td>('EEA', 'ESS')</td>\n",
       "      <td>7.915179</td>\n",
       "      <td>0.121772</td>\n",
       "      <td>123.131991</td>\n",
       "      <td>0.000989</td>\n",
       "    </tr>\n",
       "    <tr>\n",
       "      <th>2</th>\n",
       "      <td>('BXP', 'LFC')</td>\n",
       "      <td>1194.149695</td>\n",
       "      <td>11.593686</td>\n",
       "      <td>88.070115</td>\n",
       "      <td>0.131642</td>\n",
       "    </tr>\n",
       "    <tr>\n",
       "      <th>3</th>\n",
       "      <td>('PCF', 'ANIK')</td>\n",
       "      <td>2.441353</td>\n",
       "      <td>0.021605</td>\n",
       "      <td>13.484533</td>\n",
       "      <td>0.001602</td>\n",
       "    </tr>\n",
       "    <tr>\n",
       "      <th>4</th>\n",
       "      <td>('NDSN', 'POL')</td>\n",
       "      <td>-293.861701</td>\n",
       "      <td>-3.719768</td>\n",
       "      <td>36.593718</td>\n",
       "      <td>-0.101650</td>\n",
       "    </tr>\n",
       "  </tbody>\n",
       "</table>\n",
       "</div>"
      ],
      "text/plain": [
       "             pairs   ave_return  total_return  volatility  sharp_ratio\n",
       "0  ('NYT', 'BANC') -1683.602874    -15.167593  139.660600    -0.108603\n",
       "1   ('EEA', 'ESS')     7.915179      0.121772  123.131991     0.000989\n",
       "2   ('BXP', 'LFC')  1194.149695     11.593686   88.070115     0.131642\n",
       "3  ('PCF', 'ANIK')     2.441353      0.021605   13.484533     0.001602\n",
       "4  ('NDSN', 'POL')  -293.861701     -3.719768   36.593718    -0.101650"
      ]
     },
     "execution_count": 3,
     "metadata": {},
     "output_type": "execute_result"
    }
   ],
   "source": [
    "stock_data.head()"
   ]
  },
  {
   "cell_type": "markdown",
   "metadata": {},
   "source": [
    "# Column Names\n",
    "\n",
    "Column Name is one of the index that you finds in a dataframe."
   ]
  },
  {
   "cell_type": "code",
   "execution_count": 8,
   "metadata": {},
   "outputs": [
    {
     "data": {
      "text/plain": [
       "Index([u'pairs', u'ave_return', u'total_return', u'volatility',\n",
       "       u'sharp_ratio'],\n",
       "      dtype='object')"
      ]
     },
     "execution_count": 8,
     "metadata": {},
     "output_type": "execute_result"
    }
   ],
   "source": [
    "stock_data.columns"
   ]
  },
  {
   "cell_type": "code",
   "execution_count": 25,
   "metadata": {},
   "outputs": [
    {
     "data": {
      "text/plain": [
       "'pairs'"
      ]
     },
     "execution_count": 25,
     "metadata": {},
     "output_type": "execute_result"
    }
   ],
   "source": [
    "stock_data.columns[0]"
   ]
  },
  {
   "cell_type": "markdown",
   "metadata": {},
   "source": [
    "# Dataframe Index"
   ]
  },
  {
   "cell_type": "code",
   "execution_count": 39,
   "metadata": {},
   "outputs": [
    {
     "data": {
      "text/plain": [
       "RangeIndex(start=0, stop=58592, step=1)"
      ]
     },
     "execution_count": 39,
     "metadata": {},
     "output_type": "execute_result"
    }
   ],
   "source": [
    "stock_data.index #This line gives you a iterater"
   ]
  },
  {
   "cell_type": "code",
   "execution_count": 20,
   "metadata": {},
   "outputs": [
    {
     "data": {
      "text/plain": [
       "[0, 1, 2, 3, 4]"
      ]
     },
     "execution_count": 20,
     "metadata": {},
     "output_type": "execute_result"
    }
   ],
   "source": [
    "list(stock_data.index)[:5]"
   ]
  },
  {
   "cell_type": "markdown",
   "metadata": {},
   "source": [
    "You can set a column as index"
   ]
  },
  {
   "cell_type": "code",
   "execution_count": 33,
   "metadata": {},
   "outputs": [
    {
     "data": {
      "text/html": [
       "<div>\n",
       "<style scoped>\n",
       "    .dataframe tbody tr th:only-of-type {\n",
       "        vertical-align: middle;\n",
       "    }\n",
       "\n",
       "    .dataframe tbody tr th {\n",
       "        vertical-align: top;\n",
       "    }\n",
       "\n",
       "    .dataframe thead th {\n",
       "        text-align: right;\n",
       "    }\n",
       "</style>\n",
       "<table border=\"1\" class=\"dataframe\">\n",
       "  <thead>\n",
       "    <tr style=\"text-align: right;\">\n",
       "      <th></th>\n",
       "      <th>ave_return</th>\n",
       "      <th>total_return</th>\n",
       "      <th>volatility</th>\n",
       "      <th>sharp_ratio</th>\n",
       "    </tr>\n",
       "    <tr>\n",
       "      <th>pairs</th>\n",
       "      <th></th>\n",
       "      <th></th>\n",
       "      <th></th>\n",
       "      <th></th>\n",
       "    </tr>\n",
       "  </thead>\n",
       "  <tbody>\n",
       "    <tr>\n",
       "      <th>('NYT', 'BANC')</th>\n",
       "      <td>-1683.602874</td>\n",
       "      <td>-15.167593</td>\n",
       "      <td>139.660600</td>\n",
       "      <td>-0.108603</td>\n",
       "    </tr>\n",
       "    <tr>\n",
       "      <th>('EEA', 'ESS')</th>\n",
       "      <td>7.915179</td>\n",
       "      <td>0.121772</td>\n",
       "      <td>123.131991</td>\n",
       "      <td>0.000989</td>\n",
       "    </tr>\n",
       "  </tbody>\n",
       "</table>\n",
       "</div>"
      ],
      "text/plain": [
       "                  ave_return  total_return  volatility  sharp_ratio\n",
       "pairs                                                              \n",
       "('NYT', 'BANC') -1683.602874    -15.167593  139.660600    -0.108603\n",
       "('EEA', 'ESS')      7.915179      0.121772  123.131991     0.000989"
      ]
     },
     "execution_count": 33,
     "metadata": {},
     "output_type": "execute_result"
    }
   ],
   "source": [
    "stock_data.set_index(\"pairs\").head(2)"
   ]
  },
  {
   "cell_type": "markdown",
   "metadata": {},
   "source": [
    "# Groupby & Aggregation \n",
    "\n",
    ".groupby and .aggregation are good tools for data organization. Let's see some examples."
   ]
  },
  {
   "cell_type": "code",
   "execution_count": 43,
   "metadata": {},
   "outputs": [
    {
     "data": {
      "text/plain": [
       "<pandas.core.groupby.groupby.DataFrameGroupBy object at 0x000000000C6209B0>"
      ]
     },
     "execution_count": 43,
     "metadata": {},
     "output_type": "execute_result"
    }
   ],
   "source": [
    "stock_data.groupby(\"ave_return\") #Pay attention to this. This method return a groupby object. It requires some extra work."
   ]
  },
  {
   "cell_type": "code",
   "execution_count": 44,
   "metadata": {},
   "outputs": [],
   "source": [
    "stock_group = stock_data.groupby(\"ave_return\")"
   ]
  },
  {
   "cell_type": "code",
   "execution_count": 47,
   "metadata": {},
   "outputs": [
    {
     "data": {
      "text/plain": [
       "(-inf,\n",
       "                   pairs  ave_return  total_return  volatility  sharp_ratio\n",
       " 671      ('AOI', 'JNP')        -inf          -inf         NaN          NaN\n",
       " 15754    ('HRG', 'BLH')        -inf          -inf         NaN          NaN\n",
       " 18802  ('HRZN', 'ISTR')        -inf          -inf         NaN          NaN\n",
       " 20746    ('PAH', 'BAC')        -inf          -inf         NaN          NaN\n",
       " 27999   ('NWL', 'BCOR')        -inf          -inf         NaN          NaN\n",
       " 35942   ('TPC', 'BPFH')        -inf          -inf         NaN          NaN\n",
       " 40324     ('BAK', 'KW')        -inf          -inf         NaN          NaN\n",
       " 42970    ('CTS', 'CCA')        -inf          -inf         NaN          NaN\n",
       " 45654  ('DATA', 'WSTG')        -inf          -inf         NaN          NaN\n",
       " 47904  ('DVCR', 'PCYO')        -inf          -inf         NaN          NaN\n",
       " 48735   ('WSTG', 'FSB')        -inf          -inf         NaN          NaN)"
      ]
     },
     "execution_count": 47,
     "metadata": {},
     "output_type": "execute_result"
    }
   ],
   "source": [
    "list(stock_group)[0]  #gourpby object is also an iterater"
   ]
  },
  {
   "cell_type": "markdown",
   "metadata": {},
   "source": [
    "Aggregation uses in groupby object."
   ]
  },
  {
   "cell_type": "code",
   "execution_count": 53,
   "metadata": {},
   "outputs": [
    {
     "data": {
      "text/html": [
       "<div>\n",
       "<style scoped>\n",
       "    .dataframe tbody tr th:only-of-type {\n",
       "        vertical-align: middle;\n",
       "    }\n",
       "\n",
       "    .dataframe tbody tr th {\n",
       "        vertical-align: top;\n",
       "    }\n",
       "\n",
       "    .dataframe thead th {\n",
       "        text-align: right;\n",
       "    }\n",
       "</style>\n",
       "<table border=\"1\" class=\"dataframe\">\n",
       "  <thead>\n",
       "    <tr style=\"text-align: right;\">\n",
       "      <th></th>\n",
       "      <th>total_return</th>\n",
       "      <th>volatility</th>\n",
       "      <th>sharp_ratio</th>\n",
       "    </tr>\n",
       "    <tr>\n",
       "      <th>ave_return</th>\n",
       "      <th></th>\n",
       "      <th></th>\n",
       "      <th></th>\n",
       "    </tr>\n",
       "  </thead>\n",
       "  <tbody>\n",
       "    <tr>\n",
       "      <th>-inf</th>\n",
       "      <td>-inf</td>\n",
       "      <td>0.000000e+00</td>\n",
       "      <td>0.00000</td>\n",
       "    </tr>\n",
       "    <tr>\n",
       "      <th>-1.958925e+09</th>\n",
       "      <td>-1.579778e+07</td>\n",
       "      <td>1.741186e+08</td>\n",
       "      <td>-0.09073</td>\n",
       "    </tr>\n",
       "  </tbody>\n",
       "</table>\n",
       "</div>"
      ],
      "text/plain": [
       "               total_return    volatility  sharp_ratio\n",
       "ave_return                                            \n",
       "-inf                   -inf  0.000000e+00      0.00000\n",
       "-1.958925e+09 -1.579778e+07  1.741186e+08     -0.09073"
      ]
     },
     "execution_count": 53,
     "metadata": {},
     "output_type": "execute_result"
    }
   ],
   "source": [
    "stock_group.aggregate(sum).head(2)"
   ]
  },
  {
   "cell_type": "code",
   "execution_count": 69,
   "metadata": {},
   "outputs": [
    {
     "data": {
      "text/html": [
       "<div>\n",
       "<style scoped>\n",
       "    .dataframe tbody tr th:only-of-type {\n",
       "        vertical-align: middle;\n",
       "    }\n",
       "\n",
       "    .dataframe tbody tr th {\n",
       "        vertical-align: top;\n",
       "    }\n",
       "\n",
       "    .dataframe thead th {\n",
       "        text-align: right;\n",
       "    }\n",
       "</style>\n",
       "<table border=\"1\" class=\"dataframe\">\n",
       "  <thead>\n",
       "    <tr style=\"text-align: right;\">\n",
       "      <th></th>\n",
       "      <th>pairs</th>\n",
       "      <th>total_return</th>\n",
       "      <th>volatility</th>\n",
       "      <th>sharp_ratio</th>\n",
       "    </tr>\n",
       "    <tr>\n",
       "      <th>ave_return</th>\n",
       "      <th></th>\n",
       "      <th></th>\n",
       "      <th></th>\n",
       "      <th></th>\n",
       "    </tr>\n",
       "  </thead>\n",
       "  <tbody>\n",
       "    <tr>\n",
       "      <th>-inf</th>\n",
       "      <td>('WSTG', 'FSB')</td>\n",
       "      <td>-inf</td>\n",
       "      <td>NaN</td>\n",
       "      <td>NaN</td>\n",
       "    </tr>\n",
       "    <tr>\n",
       "      <th>-1.958925e+09</th>\n",
       "      <td>('KS', 'CTX')</td>\n",
       "      <td>-1.579778e+07</td>\n",
       "      <td>1.741186e+08</td>\n",
       "      <td>-0.09073</td>\n",
       "    </tr>\n",
       "  </tbody>\n",
       "</table>\n",
       "</div>"
      ],
      "text/plain": [
       "                         pairs  total_return    volatility  sharp_ratio\n",
       "ave_return                                                             \n",
       "-inf           ('WSTG', 'FSB')          -inf           NaN          NaN\n",
       "-1.958925e+09    ('KS', 'CTX') -1.579778e+07  1.741186e+08     -0.09073"
      ]
     },
     "execution_count": 69,
     "metadata": {},
     "output_type": "execute_result"
    }
   ],
   "source": [
    "stock_group.aggregate(max).head(2)"
   ]
  },
  {
   "cell_type": "code",
   "execution_count": 70,
   "metadata": {},
   "outputs": [
    {
     "data": {
      "text/html": [
       "<div>\n",
       "<style scoped>\n",
       "    .dataframe tbody tr th:only-of-type {\n",
       "        vertical-align: middle;\n",
       "    }\n",
       "\n",
       "    .dataframe tbody tr th {\n",
       "        vertical-align: top;\n",
       "    }\n",
       "\n",
       "    .dataframe thead th {\n",
       "        text-align: right;\n",
       "    }\n",
       "</style>\n",
       "<table border=\"1\" class=\"dataframe\">\n",
       "  <thead>\n",
       "    <tr style=\"text-align: right;\">\n",
       "      <th></th>\n",
       "      <th>pairs</th>\n",
       "      <th>total_return</th>\n",
       "      <th>volatility</th>\n",
       "      <th>sharp_ratio</th>\n",
       "    </tr>\n",
       "    <tr>\n",
       "      <th>ave_return</th>\n",
       "      <th></th>\n",
       "      <th></th>\n",
       "      <th></th>\n",
       "      <th></th>\n",
       "    </tr>\n",
       "  </thead>\n",
       "  <tbody>\n",
       "    <tr>\n",
       "      <th>-inf</th>\n",
       "      <td>('AOI', 'JNP')</td>\n",
       "      <td>-inf</td>\n",
       "      <td>NaN</td>\n",
       "      <td>NaN</td>\n",
       "    </tr>\n",
       "    <tr>\n",
       "      <th>-1.958925e+09</th>\n",
       "      <td>('KS', 'CTX')</td>\n",
       "      <td>-1.579778e+07</td>\n",
       "      <td>1.741186e+08</td>\n",
       "      <td>-0.09073</td>\n",
       "    </tr>\n",
       "  </tbody>\n",
       "</table>\n",
       "</div>"
      ],
      "text/plain": [
       "                        pairs  total_return    volatility  sharp_ratio\n",
       "ave_return                                                            \n",
       "-inf           ('AOI', 'JNP')          -inf           NaN          NaN\n",
       "-1.958925e+09   ('KS', 'CTX') -1.579778e+07  1.741186e+08     -0.09073"
      ]
     },
     "execution_count": 70,
     "metadata": {},
     "output_type": "execute_result"
    }
   ],
   "source": [
    "stock_group.aggregate(min).head(2)"
   ]
  },
  {
   "cell_type": "markdown",
   "metadata": {},
   "source": [
    "You can feed a numpy function, as long as the function take in a list and return an aggregated value"
   ]
  },
  {
   "cell_type": "code",
   "execution_count": 54,
   "metadata": {},
   "outputs": [
    {
     "data": {
      "text/html": [
       "<div>\n",
       "<style scoped>\n",
       "    .dataframe tbody tr th:only-of-type {\n",
       "        vertical-align: middle;\n",
       "    }\n",
       "\n",
       "    .dataframe tbody tr th {\n",
       "        vertical-align: top;\n",
       "    }\n",
       "\n",
       "    .dataframe thead th {\n",
       "        text-align: right;\n",
       "    }\n",
       "</style>\n",
       "<table border=\"1\" class=\"dataframe\">\n",
       "  <thead>\n",
       "    <tr style=\"text-align: right;\">\n",
       "      <th></th>\n",
       "      <th>total_return</th>\n",
       "      <th>volatility</th>\n",
       "      <th>sharp_ratio</th>\n",
       "    </tr>\n",
       "    <tr>\n",
       "      <th>ave_return</th>\n",
       "      <th></th>\n",
       "      <th></th>\n",
       "      <th></th>\n",
       "    </tr>\n",
       "  </thead>\n",
       "  <tbody>\n",
       "    <tr>\n",
       "      <th>-inf</th>\n",
       "      <td>-inf</td>\n",
       "      <td>NaN</td>\n",
       "      <td>NaN</td>\n",
       "    </tr>\n",
       "    <tr>\n",
       "      <th>-1.958925e+09</th>\n",
       "      <td>-1.579778e+07</td>\n",
       "      <td>1.741186e+08</td>\n",
       "      <td>-0.09073</td>\n",
       "    </tr>\n",
       "  </tbody>\n",
       "</table>\n",
       "</div>"
      ],
      "text/plain": [
       "               total_return    volatility  sharp_ratio\n",
       "ave_return                                            \n",
       "-inf                   -inf           NaN          NaN\n",
       "-1.958925e+09 -1.579778e+07  1.741186e+08     -0.09073"
      ]
     },
     "execution_count": 54,
     "metadata": {},
     "output_type": "execute_result"
    }
   ],
   "source": [
    "stock_group.aggregate(np.mean).head(2)"
   ]
  },
  {
   "cell_type": "markdown",
   "metadata": {},
   "source": [
    "If there's no exiting function that meet your need, you can feed in your own function. "
   ]
  },
  {
   "cell_type": "code",
   "execution_count": 72,
   "metadata": {},
   "outputs": [],
   "source": [
    "def my_mean(x):\n",
    "    mean = 0.0\n",
    "    for i in x:\n",
    "        mean = mean + i\n",
    "    mean = mean/(len(x))\n",
    "    return mean"
   ]
  },
  {
   "cell_type": "code",
   "execution_count": 73,
   "metadata": {},
   "outputs": [
    {
     "data": {
      "text/html": [
       "<div>\n",
       "<style scoped>\n",
       "    .dataframe tbody tr th:only-of-type {\n",
       "        vertical-align: middle;\n",
       "    }\n",
       "\n",
       "    .dataframe tbody tr th {\n",
       "        vertical-align: top;\n",
       "    }\n",
       "\n",
       "    .dataframe thead th {\n",
       "        text-align: right;\n",
       "    }\n",
       "</style>\n",
       "<table border=\"1\" class=\"dataframe\">\n",
       "  <thead>\n",
       "    <tr style=\"text-align: right;\">\n",
       "      <th></th>\n",
       "      <th>total_return</th>\n",
       "      <th>volatility</th>\n",
       "      <th>sharp_ratio</th>\n",
       "    </tr>\n",
       "    <tr>\n",
       "      <th>ave_return</th>\n",
       "      <th></th>\n",
       "      <th></th>\n",
       "      <th></th>\n",
       "    </tr>\n",
       "  </thead>\n",
       "  <tbody>\n",
       "    <tr>\n",
       "      <th>-inf</th>\n",
       "      <td>-inf</td>\n",
       "      <td>NaN</td>\n",
       "      <td>NaN</td>\n",
       "    </tr>\n",
       "    <tr>\n",
       "      <th>-1.958925e+09</th>\n",
       "      <td>-1.579778e+07</td>\n",
       "      <td>1.741186e+08</td>\n",
       "      <td>-0.09073</td>\n",
       "    </tr>\n",
       "  </tbody>\n",
       "</table>\n",
       "</div>"
      ],
      "text/plain": [
       "               total_return    volatility  sharp_ratio\n",
       "ave_return                                            \n",
       "-inf                   -inf           NaN          NaN\n",
       "-1.958925e+09 -1.579778e+07  1.741186e+08     -0.09073"
      ]
     },
     "execution_count": 73,
     "metadata": {},
     "output_type": "execute_result"
    }
   ],
   "source": [
    "stock_group.aggregate(my_mean).head(2) #return same results as the np.mean"
   ]
  },
  {
   "cell_type": "code",
   "execution_count": null,
   "metadata": {},
   "outputs": [],
   "source": []
  }
 ],
 "metadata": {
  "kernelspec": {
   "display_name": "Python 2",
   "language": "python",
   "name": "python2"
  },
  "language_info": {
   "codemirror_mode": {
    "name": "ipython",
    "version": 2
   },
   "file_extension": ".py",
   "mimetype": "text/x-python",
   "name": "python",
   "nbconvert_exporter": "python",
   "pygments_lexer": "ipython2",
   "version": "2.7.15"
  }
 },
 "nbformat": 4,
 "nbformat_minor": 2
}
