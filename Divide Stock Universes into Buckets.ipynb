{
 "cells": [
  {
   "cell_type": "code",
   "execution_count": 2,
   "metadata": {},
   "outputs": [],
   "source": [
    "import quandl"
   ]
  },
  {
   "cell_type": "code",
   "execution_count": 4,
   "metadata": {},
   "outputs": [],
   "source": [
    "quandl.ApiConfig.api_key = \"scyebx61MMZzsK4yPcch\""
   ]
  },
  {
   "cell_type": "code",
   "execution_count": 7,
   "metadata": {},
   "outputs": [],
   "source": [
    "data = quandl.get(\"\",\"FRED/GDP\", start_date=\"2001-12-31\", end_date=\"2005-12-31\")"
   ]
  },
  {
   "cell_type": "code",
   "execution_count": null,
   "metadata": {},
   "outputs": [],
   "source": [
    "\n",
    "\n",
    "   \n",
    "\n",
    "\n",
    "\n",
    "    final_update = pd.DataFrame()\n",
    "\n",
    "    for i in list(set(price.Ticker)):\n",
    "\n",
    "        final_update = final_update.append(price.loc[price.Ticker==i].iloc[-1])\n",
    "\n",
    "\n",
    "    final_update[\"Industry\"] = np.NaN\n",
    "    final_update[\"Sector\"] = np.NaN\n",
    "    final_update[\"Earnings_date\"] = np.NaN\n",
    "    final_update[\"Market_cap\"] = np.NaN\n",
    "    final_update[\"Industry_weight\"] = np.NaN\n",
    "\n",
    "    for i in list(set(final_update.Ticker)):\n",
    "        try:\n",
    "            final_update.loc[final_update.Ticker==i,\"Industry\"] = industry_sector_earnings.loc[industry_sector_earnings.Ticker == i, \"Industry\"].values[0]\n",
    "            final_update.loc[final_update.Ticker==i,\"Sector\"] = industry_sector_earnings.loc[industry_sector_earnings.Ticker == i, \"Sector\"].values[0]\n",
    "            final_update.loc[final_update.Ticker==i,\"Earnings_date\"] = industry_sector_earnings.loc[industry_sector_earnings.Ticker == i, \"Earnings_date\"].values[0]\n",
    "            final_update.loc[final_update.Ticker==i,\"Market_cap\"] = industry_sector_earnings.loc[industry_sector_earnings.Ticker == i, \"Market_cap\"].values[0]\n",
    "        except:\n",
    "\n",
    "            print \"nan occorded\"\n",
    "\n",
    "\n",
    "\n",
    "    #final_update.to_csv(\"final\"+str(price.loc[price.Ticker==i][-1][\"Date\"])+\".csv\")\n",
    "\n",
    "\n",
    "    #get industrial makcap_weight\n",
    "\n",
    "    for ind in set(final_update.Industry):\n",
    "        for tic in set(final_update.loc[final_update.Industry==ind].Ticker):\n",
    "            final_update.loc[final_update.Ticker==tic,'Industry_weight']=final_update.loc[final_update.Ticker==tic,\"Market_cap\"] / final_update.loc[final_update.Industry==ind,\"Market_cap\"].sum()\n",
    "\n",
    "\n",
    "    #final_update = final_update[['Ticker','TimeStamp', 'Open', 'High', 'Low', 'Close', 'Volume',\n",
    "    #        'Return','ADXR','AROONOSC','APO','CCI','MACD', 'MACD_hist',\n",
    "    #       'MACD_signal','MFI','ROCP','RSI','Industry','Sector']]\n",
    "    final_update = final_update[['Ticker','TimeStamp', 'Open', 'High', 'Low', 'Close', 'Volume',\n",
    "            'Return','ADXR','AROONOSC','APO','CCI','MACD', 'MACD_hist',\n",
    "           'MACD_signal','MFI','ROCP','RSI','Industry','Sector','Market_cap','Industry_weight','Earnings_date']]\n",
    "\n",
    "\n",
    "\n",
    "    final_update =final_update.set_index(\"Ticker\")\n",
    "\n",
    "    #final_update= final_update.dropna()"
   ]
  },
  {
   "cell_type": "code",
   "execution_count": 8,
   "metadata": {},
   "outputs": [],
   "source": [
    "from sklearn.datasets import load_boston\n",
    "import pandas as pd"
   ]
  },
  {
   "cell_type": "code",
   "execution_count": 5,
   "metadata": {},
   "outputs": [],
   "source": [
    "data = load_boston()['data']"
   ]
  },
  {
   "cell_type": "code",
   "execution_count": 9,
   "metadata": {},
   "outputs": [],
   "source": [
    "data= pd.DataFrame(data)"
   ]
  },
  {
   "cell_type": "code",
   "execution_count": 11,
   "metadata": {},
   "outputs": [],
   "source": [
    "data.to_excel(\"sample.xlsx\")"
   ]
  },
  {
   "cell_type": "code",
   "execution_count": null,
   "metadata": {},
   "outputs": [],
   "source": []
  }
 ],
 "metadata": {
  "kernelspec": {
   "display_name": "Python 2",
   "language": "python",
   "name": "python2"
  },
  "language_info": {
   "codemirror_mode": {
    "name": "ipython",
    "version": 2
   },
   "file_extension": ".py",
   "mimetype": "text/x-python",
   "name": "python",
   "nbconvert_exporter": "python",
   "pygments_lexer": "ipython2",
   "version": "2.7.14"
  }
 },
 "nbformat": 4,
 "nbformat_minor": 2
}
