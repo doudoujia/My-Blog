{
 "cells": [
  {
   "cell_type": "markdown",
   "metadata": {},
   "source": [
    "# Data Overview, Slicing and Selection"
   ]
  },
  {
   "cell_type": "code",
   "execution_count": 1,
   "metadata": {},
   "outputs": [],
   "source": [
    "import pandas as pd"
   ]
  },
  {
   "cell_type": "code",
   "execution_count": 2,
   "metadata": {},
   "outputs": [],
   "source": [
    "stock_data = pd.read_csv(\"pair_ETF_0302.csv\")"
   ]
  },
  {
   "cell_type": "markdown",
   "metadata": {},
   "source": [
    "When you read from raw data file, you get a Dataframe."
   ]
  },
  {
   "cell_type": "code",
   "execution_count": 3,
   "metadata": {
    "scrolled": true
   },
   "outputs": [
    {
     "data": {
      "text/plain": [
       "pandas.core.frame.DataFrame"
      ]
     },
     "execution_count": 3,
     "metadata": {},
     "output_type": "execute_result"
    }
   ],
   "source": [
    "type(stock_data)"
   ]
  },
  {
   "cell_type": "markdown",
   "metadata": {},
   "source": [
    "# Data Overview\n",
    "\n",
    "Get an overview of the data that you are working on. In this stage, you will focus on getting a board idea of data size, data type and information."
   ]
  },
  {
   "cell_type": "code",
   "execution_count": 4,
   "metadata": {},
   "outputs": [
    {
     "data": {
      "text/html": [
       "<div>\n",
       "<style scoped>\n",
       "    .dataframe tbody tr th:only-of-type {\n",
       "        vertical-align: middle;\n",
       "    }\n",
       "\n",
       "    .dataframe tbody tr th {\n",
       "        vertical-align: top;\n",
       "    }\n",
       "\n",
       "    .dataframe thead th {\n",
       "        text-align: right;\n",
       "    }\n",
       "</style>\n",
       "<table border=\"1\" class=\"dataframe\">\n",
       "  <thead>\n",
       "    <tr style=\"text-align: right;\">\n",
       "      <th></th>\n",
       "      <th>pairs</th>\n",
       "      <th>ave_return</th>\n",
       "      <th>total_return</th>\n",
       "      <th>volatility</th>\n",
       "      <th>sharp_ratio</th>\n",
       "    </tr>\n",
       "  </thead>\n",
       "  <tbody>\n",
       "    <tr>\n",
       "      <th>0</th>\n",
       "      <td>('NYT', 'BANC')</td>\n",
       "      <td>-1683.602874</td>\n",
       "      <td>-15.167593</td>\n",
       "      <td>139.660600</td>\n",
       "      <td>-0.108603</td>\n",
       "    </tr>\n",
       "    <tr>\n",
       "      <th>1</th>\n",
       "      <td>('EEA', 'ESS')</td>\n",
       "      <td>7.915179</td>\n",
       "      <td>0.121772</td>\n",
       "      <td>123.131991</td>\n",
       "      <td>0.000989</td>\n",
       "    </tr>\n",
       "    <tr>\n",
       "      <th>2</th>\n",
       "      <td>('BXP', 'LFC')</td>\n",
       "      <td>1194.149695</td>\n",
       "      <td>11.593686</td>\n",
       "      <td>88.070115</td>\n",
       "      <td>0.131642</td>\n",
       "    </tr>\n",
       "    <tr>\n",
       "      <th>3</th>\n",
       "      <td>('PCF', 'ANIK')</td>\n",
       "      <td>2.441353</td>\n",
       "      <td>0.021605</td>\n",
       "      <td>13.484533</td>\n",
       "      <td>0.001602</td>\n",
       "    </tr>\n",
       "    <tr>\n",
       "      <th>4</th>\n",
       "      <td>('NDSN', 'POL')</td>\n",
       "      <td>-293.861701</td>\n",
       "      <td>-3.719768</td>\n",
       "      <td>36.593718</td>\n",
       "      <td>-0.101650</td>\n",
       "    </tr>\n",
       "  </tbody>\n",
       "</table>\n",
       "</div>"
      ],
      "text/plain": [
       "             pairs   ave_return  total_return  volatility  sharp_ratio\n",
       "0  ('NYT', 'BANC') -1683.602874    -15.167593  139.660600    -0.108603\n",
       "1   ('EEA', 'ESS')     7.915179      0.121772  123.131991     0.000989\n",
       "2   ('BXP', 'LFC')  1194.149695     11.593686   88.070115     0.131642\n",
       "3  ('PCF', 'ANIK')     2.441353      0.021605   13.484533     0.001602\n",
       "4  ('NDSN', 'POL')  -293.861701     -3.719768   36.593718    -0.101650"
      ]
     },
     "execution_count": 4,
     "metadata": {},
     "output_type": "execute_result"
    }
   ],
   "source": [
    "stock_data.head() #This is a function call, remember the ()"
   ]
  },
  {
   "cell_type": "code",
   "execution_count": 5,
   "metadata": {},
   "outputs": [
    {
     "data": {
      "text/html": [
       "<div>\n",
       "<style scoped>\n",
       "    .dataframe tbody tr th:only-of-type {\n",
       "        vertical-align: middle;\n",
       "    }\n",
       "\n",
       "    .dataframe tbody tr th {\n",
       "        vertical-align: top;\n",
       "    }\n",
       "\n",
       "    .dataframe thead th {\n",
       "        text-align: right;\n",
       "    }\n",
       "</style>\n",
       "<table border=\"1\" class=\"dataframe\">\n",
       "  <thead>\n",
       "    <tr style=\"text-align: right;\">\n",
       "      <th></th>\n",
       "      <th>pairs</th>\n",
       "      <th>ave_return</th>\n",
       "      <th>total_return</th>\n",
       "      <th>volatility</th>\n",
       "      <th>sharp_ratio</th>\n",
       "    </tr>\n",
       "  </thead>\n",
       "  <tbody>\n",
       "    <tr>\n",
       "      <th>58587</th>\n",
       "      <td>('INFO', 'MYF')</td>\n",
       "      <td>1111.644206</td>\n",
       "      <td>8.964873</td>\n",
       "      <td>84.062452</td>\n",
       "      <td>0.106645</td>\n",
       "    </tr>\n",
       "    <tr>\n",
       "      <th>58588</th>\n",
       "      <td>('AL', 'CSL')</td>\n",
       "      <td>917.521116</td>\n",
       "      <td>7.399364</td>\n",
       "      <td>63.715749</td>\n",
       "      <td>0.116131</td>\n",
       "    </tr>\n",
       "    <tr>\n",
       "      <th>58589</th>\n",
       "      <td>('PFL', 'DSW')</td>\n",
       "      <td>-876.763054</td>\n",
       "      <td>-7.070670</td>\n",
       "      <td>49.698238</td>\n",
       "      <td>-0.142272</td>\n",
       "    </tr>\n",
       "    <tr>\n",
       "      <th>58590</th>\n",
       "      <td>('HWBK', 'KRNY')</td>\n",
       "      <td>-106.253729</td>\n",
       "      <td>-0.856885</td>\n",
       "      <td>22.987587</td>\n",
       "      <td>-0.037276</td>\n",
       "    </tr>\n",
       "    <tr>\n",
       "      <th>58591</th>\n",
       "      <td>('AN', 'KAP')</td>\n",
       "      <td>36.888918</td>\n",
       "      <td>0.297491</td>\n",
       "      <td>7.444777</td>\n",
       "      <td>0.039960</td>\n",
       "    </tr>\n",
       "  </tbody>\n",
       "</table>\n",
       "</div>"
      ],
      "text/plain": [
       "                  pairs   ave_return  total_return  volatility  sharp_ratio\n",
       "58587   ('INFO', 'MYF')  1111.644206      8.964873   84.062452     0.106645\n",
       "58588     ('AL', 'CSL')   917.521116      7.399364   63.715749     0.116131\n",
       "58589    ('PFL', 'DSW')  -876.763054     -7.070670   49.698238    -0.142272\n",
       "58590  ('HWBK', 'KRNY')  -106.253729     -0.856885   22.987587    -0.037276\n",
       "58591     ('AN', 'KAP')    36.888918      0.297491    7.444777     0.039960"
      ]
     },
     "execution_count": 5,
     "metadata": {},
     "output_type": "execute_result"
    }
   ],
   "source": [
    "stock_data.tail()"
   ]
  },
  {
   "cell_type": "markdown",
   "metadata": {},
   "source": [
    "You can access columns the below methods"
   ]
  },
  {
   "cell_type": "code",
   "execution_count": 6,
   "metadata": {
    "scrolled": true
   },
   "outputs": [
    {
     "data": {
      "text/plain": [
       "0    ('NYT', 'BANC')\n",
       "1     ('EEA', 'ESS')\n",
       "2     ('BXP', 'LFC')\n",
       "3    ('PCF', 'ANIK')\n",
       "4    ('NDSN', 'POL')\n",
       "Name: pairs, dtype: object"
      ]
     },
     "execution_count": 6,
     "metadata": {},
     "output_type": "execute_result"
    }
   ],
   "source": [
    "stock_data.pairs.head()"
   ]
  },
  {
   "cell_type": "code",
   "execution_count": 7,
   "metadata": {
    "scrolled": true
   },
   "outputs": [
    {
     "data": {
      "text/plain": [
       "0    ('NYT', 'BANC')\n",
       "1     ('EEA', 'ESS')\n",
       "2     ('BXP', 'LFC')\n",
       "3    ('PCF', 'ANIK')\n",
       "4    ('NDSN', 'POL')\n",
       "Name: pairs, dtype: object"
      ]
     },
     "execution_count": 7,
     "metadata": {},
     "output_type": "execute_result"
    }
   ],
   "source": [
    "stock_data[\"pairs\"].head()"
   ]
  },
  {
   "cell_type": "markdown",
   "metadata": {},
   "source": [
    "You will get a data type of Series. You can view Series as a single unit of Dataframe."
   ]
  },
  {
   "cell_type": "code",
   "execution_count": 8,
   "metadata": {},
   "outputs": [
    {
     "data": {
      "text/plain": [
       "pandas.core.series.Series"
      ]
     },
     "execution_count": 8,
     "metadata": {},
     "output_type": "execute_result"
    }
   ],
   "source": [
    "type(stock_data[\"pairs\"])"
   ]
  },
  {
   "cell_type": "markdown",
   "metadata": {},
   "source": [
    "You can access specific cell like this."
   ]
  },
  {
   "cell_type": "code",
   "execution_count": 9,
   "metadata": {},
   "outputs": [
    {
     "data": {
      "text/plain": [
       "\"('NYT', 'BANC')\""
      ]
     },
     "execution_count": 9,
     "metadata": {},
     "output_type": "execute_result"
    }
   ],
   "source": [
    "stock_data[\"pairs\"][0]"
   ]
  },
  {
   "cell_type": "code",
   "execution_count": 10,
   "metadata": {},
   "outputs": [
    {
     "data": {
      "text/plain": [
       "str"
      ]
     },
     "execution_count": 10,
     "metadata": {},
     "output_type": "execute_result"
    }
   ],
   "source": [
    "type(stock_data[\"pairs\"][0])"
   ]
  },
  {
   "cell_type": "markdown",
   "metadata": {},
   "source": [
    "# Slicing and Selection\n",
    "\n",
    "You can access a certain portion of data. Please remind that index starts from 0."
   ]
  },
  {
   "cell_type": "code",
   "execution_count": 11,
   "metadata": {
    "scrolled": true
   },
   "outputs": [
    {
     "data": {
      "text/html": [
       "<div>\n",
       "<style scoped>\n",
       "    .dataframe tbody tr th:only-of-type {\n",
       "        vertical-align: middle;\n",
       "    }\n",
       "\n",
       "    .dataframe tbody tr th {\n",
       "        vertical-align: top;\n",
       "    }\n",
       "\n",
       "    .dataframe thead th {\n",
       "        text-align: right;\n",
       "    }\n",
       "</style>\n",
       "<table border=\"1\" class=\"dataframe\">\n",
       "  <thead>\n",
       "    <tr style=\"text-align: right;\">\n",
       "      <th></th>\n",
       "      <th>pairs</th>\n",
       "      <th>ave_return</th>\n",
       "      <th>total_return</th>\n",
       "      <th>volatility</th>\n",
       "      <th>sharp_ratio</th>\n",
       "    </tr>\n",
       "  </thead>\n",
       "  <tbody>\n",
       "    <tr>\n",
       "      <th>0</th>\n",
       "      <td>('NYT', 'BANC')</td>\n",
       "      <td>-1683.602874</td>\n",
       "      <td>-15.167593</td>\n",
       "      <td>139.660600</td>\n",
       "      <td>-0.108603</td>\n",
       "    </tr>\n",
       "    <tr>\n",
       "      <th>1</th>\n",
       "      <td>('EEA', 'ESS')</td>\n",
       "      <td>7.915179</td>\n",
       "      <td>0.121772</td>\n",
       "      <td>123.131991</td>\n",
       "      <td>0.000989</td>\n",
       "    </tr>\n",
       "    <tr>\n",
       "      <th>2</th>\n",
       "      <td>('BXP', 'LFC')</td>\n",
       "      <td>1194.149695</td>\n",
       "      <td>11.593686</td>\n",
       "      <td>88.070115</td>\n",
       "      <td>0.131642</td>\n",
       "    </tr>\n",
       "    <tr>\n",
       "      <th>3</th>\n",
       "      <td>('PCF', 'ANIK')</td>\n",
       "      <td>2.441353</td>\n",
       "      <td>0.021605</td>\n",
       "      <td>13.484533</td>\n",
       "      <td>0.001602</td>\n",
       "    </tr>\n",
       "    <tr>\n",
       "      <th>4</th>\n",
       "      <td>('NDSN', 'POL')</td>\n",
       "      <td>-293.861701</td>\n",
       "      <td>-3.719768</td>\n",
       "      <td>36.593718</td>\n",
       "      <td>-0.101650</td>\n",
       "    </tr>\n",
       "  </tbody>\n",
       "</table>\n",
       "</div>"
      ],
      "text/plain": [
       "             pairs   ave_return  total_return  volatility  sharp_ratio\n",
       "0  ('NYT', 'BANC') -1683.602874    -15.167593  139.660600    -0.108603\n",
       "1   ('EEA', 'ESS')     7.915179      0.121772  123.131991     0.000989\n",
       "2   ('BXP', 'LFC')  1194.149695     11.593686   88.070115     0.131642\n",
       "3  ('PCF', 'ANIK')     2.441353      0.021605   13.484533     0.001602\n",
       "4  ('NDSN', 'POL')  -293.861701     -3.719768   36.593718    -0.101650"
      ]
     },
     "execution_count": 11,
     "metadata": {},
     "output_type": "execute_result"
    }
   ],
   "source": [
    "stock_data[:].head() #Showing all slices"
   ]
  },
  {
   "cell_type": "code",
   "execution_count": 12,
   "metadata": {
    "scrolled": true
   },
   "outputs": [
    {
     "data": {
      "text/html": [
       "<div>\n",
       "<style scoped>\n",
       "    .dataframe tbody tr th:only-of-type {\n",
       "        vertical-align: middle;\n",
       "    }\n",
       "\n",
       "    .dataframe tbody tr th {\n",
       "        vertical-align: top;\n",
       "    }\n",
       "\n",
       "    .dataframe thead th {\n",
       "        text-align: right;\n",
       "    }\n",
       "</style>\n",
       "<table border=\"1\" class=\"dataframe\">\n",
       "  <thead>\n",
       "    <tr style=\"text-align: right;\">\n",
       "      <th></th>\n",
       "      <th>pairs</th>\n",
       "      <th>ave_return</th>\n",
       "      <th>total_return</th>\n",
       "      <th>volatility</th>\n",
       "      <th>sharp_ratio</th>\n",
       "    </tr>\n",
       "  </thead>\n",
       "  <tbody>\n",
       "    <tr>\n",
       "      <th>2</th>\n",
       "      <td>('BXP', 'LFC')</td>\n",
       "      <td>1194.149695</td>\n",
       "      <td>11.593686</td>\n",
       "      <td>88.070115</td>\n",
       "      <td>0.131642</td>\n",
       "    </tr>\n",
       "    <tr>\n",
       "      <th>3</th>\n",
       "      <td>('PCF', 'ANIK')</td>\n",
       "      <td>2.441353</td>\n",
       "      <td>0.021605</td>\n",
       "      <td>13.484533</td>\n",
       "      <td>0.001602</td>\n",
       "    </tr>\n",
       "    <tr>\n",
       "      <th>4</th>\n",
       "      <td>('NDSN', 'POL')</td>\n",
       "      <td>-293.861701</td>\n",
       "      <td>-3.719768</td>\n",
       "      <td>36.593718</td>\n",
       "      <td>-0.101650</td>\n",
       "    </tr>\n",
       "    <tr>\n",
       "      <th>5</th>\n",
       "      <td>('DAKT', 'LPG')</td>\n",
       "      <td>-578.896261</td>\n",
       "      <td>-5.122976</td>\n",
       "      <td>255.150999</td>\n",
       "      <td>-0.020078</td>\n",
       "    </tr>\n",
       "    <tr>\n",
       "      <th>6</th>\n",
       "      <td>('AGR', 'MXIM')</td>\n",
       "      <td>2203.294225</td>\n",
       "      <td>21.600924</td>\n",
       "      <td>163.622809</td>\n",
       "      <td>0.132017</td>\n",
       "    </tr>\n",
       "  </tbody>\n",
       "</table>\n",
       "</div>"
      ],
      "text/plain": [
       "             pairs   ave_return  total_return  volatility  sharp_ratio\n",
       "2   ('BXP', 'LFC')  1194.149695     11.593686   88.070115     0.131642\n",
       "3  ('PCF', 'ANIK')     2.441353      0.021605   13.484533     0.001602\n",
       "4  ('NDSN', 'POL')  -293.861701     -3.719768   36.593718    -0.101650\n",
       "5  ('DAKT', 'LPG')  -578.896261     -5.122976  255.150999    -0.020078\n",
       "6  ('AGR', 'MXIM')  2203.294225     21.600924  163.622809     0.132017"
      ]
     },
     "execution_count": 12,
     "metadata": {},
     "output_type": "execute_result"
    }
   ],
   "source": [
    "stock_data[2:].head()  #start from the 3rd row"
   ]
  },
  {
   "cell_type": "code",
   "execution_count": 13,
   "metadata": {},
   "outputs": [
    {
     "data": {
      "text/html": [
       "<div>\n",
       "<style scoped>\n",
       "    .dataframe tbody tr th:only-of-type {\n",
       "        vertical-align: middle;\n",
       "    }\n",
       "\n",
       "    .dataframe tbody tr th {\n",
       "        vertical-align: top;\n",
       "    }\n",
       "\n",
       "    .dataframe thead th {\n",
       "        text-align: right;\n",
       "    }\n",
       "</style>\n",
       "<table border=\"1\" class=\"dataframe\">\n",
       "  <thead>\n",
       "    <tr style=\"text-align: right;\">\n",
       "      <th></th>\n",
       "      <th>pairs</th>\n",
       "      <th>ave_return</th>\n",
       "      <th>total_return</th>\n",
       "      <th>volatility</th>\n",
       "      <th>sharp_ratio</th>\n",
       "    </tr>\n",
       "  </thead>\n",
       "  <tbody>\n",
       "    <tr>\n",
       "      <th>0</th>\n",
       "      <td>('NYT', 'BANC')</td>\n",
       "      <td>-1683.602874</td>\n",
       "      <td>-15.167593</td>\n",
       "      <td>139.660600</td>\n",
       "      <td>-0.108603</td>\n",
       "    </tr>\n",
       "    <tr>\n",
       "      <th>1</th>\n",
       "      <td>('EEA', 'ESS')</td>\n",
       "      <td>7.915179</td>\n",
       "      <td>0.121772</td>\n",
       "      <td>123.131991</td>\n",
       "      <td>0.000989</td>\n",
       "    </tr>\n",
       "    <tr>\n",
       "      <th>2</th>\n",
       "      <td>('BXP', 'LFC')</td>\n",
       "      <td>1194.149695</td>\n",
       "      <td>11.593686</td>\n",
       "      <td>88.070115</td>\n",
       "      <td>0.131642</td>\n",
       "    </tr>\n",
       "  </tbody>\n",
       "</table>\n",
       "</div>"
      ],
      "text/plain": [
       "             pairs   ave_return  total_return  volatility  sharp_ratio\n",
       "0  ('NYT', 'BANC') -1683.602874    -15.167593  139.660600    -0.108603\n",
       "1   ('EEA', 'ESS')     7.915179      0.121772  123.131991     0.000989\n",
       "2   ('BXP', 'LFC')  1194.149695     11.593686   88.070115     0.131642"
      ]
     },
     "execution_count": 13,
     "metadata": {},
     "output_type": "execute_result"
    }
   ],
   "source": [
    "stock_data[:3] #get until the 4th row"
   ]
  },
  {
   "cell_type": "code",
   "execution_count": 14,
   "metadata": {
    "scrolled": true
   },
   "outputs": [
    {
     "data": {
      "text/plain": [
       "0    ('NYT', 'BANC')\n",
       "1     ('EEA', 'ESS')\n",
       "2     ('BXP', 'LFC')\n",
       "3    ('PCF', 'ANIK')\n",
       "4    ('NDSN', 'POL')\n",
       "Name: pairs, dtype: object"
      ]
     },
     "execution_count": 14,
     "metadata": {},
     "output_type": "execute_result"
    }
   ],
   "source": [
    "stock_data[\"pairs\"].head()  # Usually I use column name to access column"
   ]
  },
  {
   "cell_type": "markdown",
   "metadata": {},
   "source": [
    "# More Slicing and Selection\n",
    "\n",
    "This doesn't work because it's accessing the index, and the Dataframe doesn't have the index named 0"
   ]
  },
  {
   "cell_type": "code",
   "execution_count": 15,
   "metadata": {
    "scrolled": true
   },
   "outputs": [
    {
     "ename": "KeyError",
     "evalue": "0",
     "output_type": "error",
     "traceback": [
      "\u001b[1;31m---------------------------------------------------------------------------\u001b[0m",
      "\u001b[1;31mKeyError\u001b[0m                                  Traceback (most recent call last)",
      "\u001b[1;32m<ipython-input-15-e3654389130b>\u001b[0m in \u001b[0;36m<module>\u001b[1;34m()\u001b[0m\n\u001b[1;32m----> 1\u001b[1;33m \u001b[0mstock_data\u001b[0m\u001b[1;33m[\u001b[0m\u001b[1;36m0\u001b[0m\u001b[1;33m]\u001b[0m\u001b[1;33m\u001b[0m\u001b[0m\n\u001b[0m",
      "\u001b[1;32mC:\\ProgramData\\Anaconda2\\lib\\site-packages\\pandas\\core\\frame.py\u001b[0m in \u001b[0;36m__getitem__\u001b[1;34m(self, key)\u001b[0m\n\u001b[0;32m   2683\u001b[0m             \u001b[1;32mreturn\u001b[0m \u001b[0mself\u001b[0m\u001b[1;33m.\u001b[0m\u001b[0m_getitem_multilevel\u001b[0m\u001b[1;33m(\u001b[0m\u001b[0mkey\u001b[0m\u001b[1;33m)\u001b[0m\u001b[1;33m\u001b[0m\u001b[0m\n\u001b[0;32m   2684\u001b[0m         \u001b[1;32melse\u001b[0m\u001b[1;33m:\u001b[0m\u001b[1;33m\u001b[0m\u001b[0m\n\u001b[1;32m-> 2685\u001b[1;33m             \u001b[1;32mreturn\u001b[0m \u001b[0mself\u001b[0m\u001b[1;33m.\u001b[0m\u001b[0m_getitem_column\u001b[0m\u001b[1;33m(\u001b[0m\u001b[0mkey\u001b[0m\u001b[1;33m)\u001b[0m\u001b[1;33m\u001b[0m\u001b[0m\n\u001b[0m\u001b[0;32m   2686\u001b[0m \u001b[1;33m\u001b[0m\u001b[0m\n\u001b[0;32m   2687\u001b[0m     \u001b[1;32mdef\u001b[0m \u001b[0m_getitem_column\u001b[0m\u001b[1;33m(\u001b[0m\u001b[0mself\u001b[0m\u001b[1;33m,\u001b[0m \u001b[0mkey\u001b[0m\u001b[1;33m)\u001b[0m\u001b[1;33m:\u001b[0m\u001b[1;33m\u001b[0m\u001b[0m\n",
      "\u001b[1;32mC:\\ProgramData\\Anaconda2\\lib\\site-packages\\pandas\\core\\frame.py\u001b[0m in \u001b[0;36m_getitem_column\u001b[1;34m(self, key)\u001b[0m\n\u001b[0;32m   2690\u001b[0m         \u001b[1;31m# get column\u001b[0m\u001b[1;33m\u001b[0m\u001b[1;33m\u001b[0m\u001b[0m\n\u001b[0;32m   2691\u001b[0m         \u001b[1;32mif\u001b[0m \u001b[0mself\u001b[0m\u001b[1;33m.\u001b[0m\u001b[0mcolumns\u001b[0m\u001b[1;33m.\u001b[0m\u001b[0mis_unique\u001b[0m\u001b[1;33m:\u001b[0m\u001b[1;33m\u001b[0m\u001b[0m\n\u001b[1;32m-> 2692\u001b[1;33m             \u001b[1;32mreturn\u001b[0m \u001b[0mself\u001b[0m\u001b[1;33m.\u001b[0m\u001b[0m_get_item_cache\u001b[0m\u001b[1;33m(\u001b[0m\u001b[0mkey\u001b[0m\u001b[1;33m)\u001b[0m\u001b[1;33m\u001b[0m\u001b[0m\n\u001b[0m\u001b[0;32m   2693\u001b[0m \u001b[1;33m\u001b[0m\u001b[0m\n\u001b[0;32m   2694\u001b[0m         \u001b[1;31m# duplicate columns & possible reduce dimensionality\u001b[0m\u001b[1;33m\u001b[0m\u001b[1;33m\u001b[0m\u001b[0m\n",
      "\u001b[1;32mC:\\ProgramData\\Anaconda2\\lib\\site-packages\\pandas\\core\\generic.py\u001b[0m in \u001b[0;36m_get_item_cache\u001b[1;34m(self, item)\u001b[0m\n\u001b[0;32m   2484\u001b[0m         \u001b[0mres\u001b[0m \u001b[1;33m=\u001b[0m \u001b[0mcache\u001b[0m\u001b[1;33m.\u001b[0m\u001b[0mget\u001b[0m\u001b[1;33m(\u001b[0m\u001b[0mitem\u001b[0m\u001b[1;33m)\u001b[0m\u001b[1;33m\u001b[0m\u001b[0m\n\u001b[0;32m   2485\u001b[0m         \u001b[1;32mif\u001b[0m \u001b[0mres\u001b[0m \u001b[1;32mis\u001b[0m \u001b[0mNone\u001b[0m\u001b[1;33m:\u001b[0m\u001b[1;33m\u001b[0m\u001b[0m\n\u001b[1;32m-> 2486\u001b[1;33m             \u001b[0mvalues\u001b[0m \u001b[1;33m=\u001b[0m \u001b[0mself\u001b[0m\u001b[1;33m.\u001b[0m\u001b[0m_data\u001b[0m\u001b[1;33m.\u001b[0m\u001b[0mget\u001b[0m\u001b[1;33m(\u001b[0m\u001b[0mitem\u001b[0m\u001b[1;33m)\u001b[0m\u001b[1;33m\u001b[0m\u001b[0m\n\u001b[0m\u001b[0;32m   2487\u001b[0m             \u001b[0mres\u001b[0m \u001b[1;33m=\u001b[0m \u001b[0mself\u001b[0m\u001b[1;33m.\u001b[0m\u001b[0m_box_item_values\u001b[0m\u001b[1;33m(\u001b[0m\u001b[0mitem\u001b[0m\u001b[1;33m,\u001b[0m \u001b[0mvalues\u001b[0m\u001b[1;33m)\u001b[0m\u001b[1;33m\u001b[0m\u001b[0m\n\u001b[0;32m   2488\u001b[0m             \u001b[0mcache\u001b[0m\u001b[1;33m[\u001b[0m\u001b[0mitem\u001b[0m\u001b[1;33m]\u001b[0m \u001b[1;33m=\u001b[0m \u001b[0mres\u001b[0m\u001b[1;33m\u001b[0m\u001b[0m\n",
      "\u001b[1;32mC:\\ProgramData\\Anaconda2\\lib\\site-packages\\pandas\\core\\internals.py\u001b[0m in \u001b[0;36mget\u001b[1;34m(self, item, fastpath)\u001b[0m\n\u001b[0;32m   4113\u001b[0m \u001b[1;33m\u001b[0m\u001b[0m\n\u001b[0;32m   4114\u001b[0m             \u001b[1;32mif\u001b[0m \u001b[1;32mnot\u001b[0m \u001b[0misna\u001b[0m\u001b[1;33m(\u001b[0m\u001b[0mitem\u001b[0m\u001b[1;33m)\u001b[0m\u001b[1;33m:\u001b[0m\u001b[1;33m\u001b[0m\u001b[0m\n\u001b[1;32m-> 4115\u001b[1;33m                 \u001b[0mloc\u001b[0m \u001b[1;33m=\u001b[0m \u001b[0mself\u001b[0m\u001b[1;33m.\u001b[0m\u001b[0mitems\u001b[0m\u001b[1;33m.\u001b[0m\u001b[0mget_loc\u001b[0m\u001b[1;33m(\u001b[0m\u001b[0mitem\u001b[0m\u001b[1;33m)\u001b[0m\u001b[1;33m\u001b[0m\u001b[0m\n\u001b[0m\u001b[0;32m   4116\u001b[0m             \u001b[1;32melse\u001b[0m\u001b[1;33m:\u001b[0m\u001b[1;33m\u001b[0m\u001b[0m\n\u001b[0;32m   4117\u001b[0m                 \u001b[0mindexer\u001b[0m \u001b[1;33m=\u001b[0m \u001b[0mnp\u001b[0m\u001b[1;33m.\u001b[0m\u001b[0marange\u001b[0m\u001b[1;33m(\u001b[0m\u001b[0mlen\u001b[0m\u001b[1;33m(\u001b[0m\u001b[0mself\u001b[0m\u001b[1;33m.\u001b[0m\u001b[0mitems\u001b[0m\u001b[1;33m)\u001b[0m\u001b[1;33m)\u001b[0m\u001b[1;33m[\u001b[0m\u001b[0misna\u001b[0m\u001b[1;33m(\u001b[0m\u001b[0mself\u001b[0m\u001b[1;33m.\u001b[0m\u001b[0mitems\u001b[0m\u001b[1;33m)\u001b[0m\u001b[1;33m]\u001b[0m\u001b[1;33m\u001b[0m\u001b[0m\n",
      "\u001b[1;32mC:\\ProgramData\\Anaconda2\\lib\\site-packages\\pandas\\core\\indexes\\base.py\u001b[0m in \u001b[0;36mget_loc\u001b[1;34m(self, key, method, tolerance)\u001b[0m\n\u001b[0;32m   3063\u001b[0m                 \u001b[1;32mreturn\u001b[0m \u001b[0mself\u001b[0m\u001b[1;33m.\u001b[0m\u001b[0m_engine\u001b[0m\u001b[1;33m.\u001b[0m\u001b[0mget_loc\u001b[0m\u001b[1;33m(\u001b[0m\u001b[0mkey\u001b[0m\u001b[1;33m)\u001b[0m\u001b[1;33m\u001b[0m\u001b[0m\n\u001b[0;32m   3064\u001b[0m             \u001b[1;32mexcept\u001b[0m \u001b[0mKeyError\u001b[0m\u001b[1;33m:\u001b[0m\u001b[1;33m\u001b[0m\u001b[0m\n\u001b[1;32m-> 3065\u001b[1;33m                 \u001b[1;32mreturn\u001b[0m \u001b[0mself\u001b[0m\u001b[1;33m.\u001b[0m\u001b[0m_engine\u001b[0m\u001b[1;33m.\u001b[0m\u001b[0mget_loc\u001b[0m\u001b[1;33m(\u001b[0m\u001b[0mself\u001b[0m\u001b[1;33m.\u001b[0m\u001b[0m_maybe_cast_indexer\u001b[0m\u001b[1;33m(\u001b[0m\u001b[0mkey\u001b[0m\u001b[1;33m)\u001b[0m\u001b[1;33m)\u001b[0m\u001b[1;33m\u001b[0m\u001b[0m\n\u001b[0m\u001b[0;32m   3066\u001b[0m \u001b[1;33m\u001b[0m\u001b[0m\n\u001b[0;32m   3067\u001b[0m         \u001b[0mindexer\u001b[0m \u001b[1;33m=\u001b[0m \u001b[0mself\u001b[0m\u001b[1;33m.\u001b[0m\u001b[0mget_indexer\u001b[0m\u001b[1;33m(\u001b[0m\u001b[1;33m[\u001b[0m\u001b[0mkey\u001b[0m\u001b[1;33m]\u001b[0m\u001b[1;33m,\u001b[0m \u001b[0mmethod\u001b[0m\u001b[1;33m=\u001b[0m\u001b[0mmethod\u001b[0m\u001b[1;33m,\u001b[0m \u001b[0mtolerance\u001b[0m\u001b[1;33m=\u001b[0m\u001b[0mtolerance\u001b[0m\u001b[1;33m)\u001b[0m\u001b[1;33m\u001b[0m\u001b[0m\n",
      "\u001b[1;32mpandas\\_libs\\index.pyx\u001b[0m in \u001b[0;36mpandas._libs.index.IndexEngine.get_loc\u001b[1;34m()\u001b[0m\n",
      "\u001b[1;32mpandas\\_libs\\index.pyx\u001b[0m in \u001b[0;36mpandas._libs.index.IndexEngine.get_loc\u001b[1;34m()\u001b[0m\n",
      "\u001b[1;32mpandas\\_libs\\hashtable_class_helper.pxi\u001b[0m in \u001b[0;36mpandas._libs.hashtable.PyObjectHashTable.get_item\u001b[1;34m()\u001b[0m\n",
      "\u001b[1;32mpandas\\_libs\\hashtable_class_helper.pxi\u001b[0m in \u001b[0;36mpandas._libs.hashtable.PyObjectHashTable.get_item\u001b[1;34m()\u001b[0m\n",
      "\u001b[1;31mKeyError\u001b[0m: 0"
     ]
    }
   ],
   "source": [
    "stock_data[0] "
   ]
  },
  {
   "cell_type": "code",
   "execution_count": 16,
   "metadata": {},
   "outputs": [
    {
     "data": {
      "text/plain": [
       "pairs           ('NYT', 'BANC')\n",
       "ave_return              -1683.6\n",
       "total_return           -15.1676\n",
       "volatility              139.661\n",
       "sharp_ratio           -0.108603\n",
       "Name: 0, dtype: object"
      ]
     },
     "execution_count": 16,
     "metadata": {},
     "output_type": "execute_result"
    }
   ],
   "source": [
    "stock_data.iloc[0] #But you can access nth row using .iloc[n]"
   ]
  },
  {
   "cell_type": "code",
   "execution_count": 17,
   "metadata": {},
   "outputs": [
    {
     "data": {
      "text/plain": [
       "pandas.core.series.Series"
      ]
     },
     "execution_count": 17,
     "metadata": {},
     "output_type": "execute_result"
    }
   ],
   "source": [
    "type(stock_data.iloc[0]) #it returns a Series"
   ]
  },
  {
   "cell_type": "code",
   "execution_count": 18,
   "metadata": {},
   "outputs": [
    {
     "data": {
      "text/html": [
       "<div>\n",
       "<style scoped>\n",
       "    .dataframe tbody tr th:only-of-type {\n",
       "        vertical-align: middle;\n",
       "    }\n",
       "\n",
       "    .dataframe tbody tr th {\n",
       "        vertical-align: top;\n",
       "    }\n",
       "\n",
       "    .dataframe thead th {\n",
       "        text-align: right;\n",
       "    }\n",
       "</style>\n",
       "<table border=\"1\" class=\"dataframe\">\n",
       "  <thead>\n",
       "    <tr style=\"text-align: right;\">\n",
       "      <th></th>\n",
       "      <th>pairs</th>\n",
       "      <th>ave_return</th>\n",
       "      <th>total_return</th>\n",
       "      <th>volatility</th>\n",
       "      <th>sharp_ratio</th>\n",
       "    </tr>\n",
       "  </thead>\n",
       "  <tbody>\n",
       "    <tr>\n",
       "      <th>0</th>\n",
       "      <td>('NYT', 'BANC')</td>\n",
       "      <td>-1683.602874</td>\n",
       "      <td>-15.167593</td>\n",
       "      <td>139.660600</td>\n",
       "      <td>-0.108603</td>\n",
       "    </tr>\n",
       "    <tr>\n",
       "      <th>1</th>\n",
       "      <td>('EEA', 'ESS')</td>\n",
       "      <td>7.915179</td>\n",
       "      <td>0.121772</td>\n",
       "      <td>123.131991</td>\n",
       "      <td>0.000989</td>\n",
       "    </tr>\n",
       "  </tbody>\n",
       "</table>\n",
       "</div>"
      ],
      "text/plain": [
       "             pairs   ave_return  total_return  volatility  sharp_ratio\n",
       "0  ('NYT', 'BANC') -1683.602874    -15.167593  139.660600    -0.108603\n",
       "1   ('EEA', 'ESS')     7.915179      0.121772  123.131991     0.000989"
      ]
     },
     "execution_count": 18,
     "metadata": {},
     "output_type": "execute_result"
    }
   ],
   "source": [
    "stock_data.iloc[0:2] #You can also feed a portion to .iloc and it will return Dataframe"
   ]
  },
  {
   "cell_type": "code",
   "execution_count": 19,
   "metadata": {},
   "outputs": [
    {
     "data": {
      "text/html": [
       "<div>\n",
       "<style scoped>\n",
       "    .dataframe tbody tr th:only-of-type {\n",
       "        vertical-align: middle;\n",
       "    }\n",
       "\n",
       "    .dataframe tbody tr th {\n",
       "        vertical-align: top;\n",
       "    }\n",
       "\n",
       "    .dataframe thead th {\n",
       "        text-align: right;\n",
       "    }\n",
       "</style>\n",
       "<table border=\"1\" class=\"dataframe\">\n",
       "  <thead>\n",
       "    <tr style=\"text-align: right;\">\n",
       "      <th></th>\n",
       "      <th>pairs</th>\n",
       "      <th>ave_return</th>\n",
       "      <th>total_return</th>\n",
       "      <th>volatility</th>\n",
       "      <th>sharp_ratio</th>\n",
       "    </tr>\n",
       "  </thead>\n",
       "  <tbody>\n",
       "    <tr>\n",
       "      <th>1</th>\n",
       "      <td>('EEA', 'ESS')</td>\n",
       "      <td>7.915179</td>\n",
       "      <td>0.121772</td>\n",
       "      <td>123.131991</td>\n",
       "      <td>0.000989</td>\n",
       "    </tr>\n",
       "    <tr>\n",
       "      <th>2</th>\n",
       "      <td>('BXP', 'LFC')</td>\n",
       "      <td>1194.149695</td>\n",
       "      <td>11.593686</td>\n",
       "      <td>88.070115</td>\n",
       "      <td>0.131642</td>\n",
       "    </tr>\n",
       "  </tbody>\n",
       "</table>\n",
       "</div>"
      ],
      "text/plain": [
       "            pairs   ave_return  total_return  volatility  sharp_ratio\n",
       "1  ('EEA', 'ESS')     7.915179      0.121772  123.131991     0.000989\n",
       "2  ('BXP', 'LFC')  1194.149695     11.593686   88.070115     0.131642"
      ]
     },
     "execution_count": 19,
     "metadata": {},
     "output_type": "execute_result"
    }
   ],
   "source": [
    "stock_data.loc[[1,2]] #.loc can also be feeded a list of index"
   ]
  },
  {
   "cell_type": "markdown",
   "metadata": {},
   "source": [
    "Using .loc[], you can conduct more complex selection"
   ]
  },
  {
   "cell_type": "code",
   "execution_count": 20,
   "metadata": {
    "scrolled": true
   },
   "outputs": [
    {
     "data": {
      "text/plain": [
       "0    ('NYT', 'BANC')\n",
       "1     ('EEA', 'ESS')\n",
       "2     ('BXP', 'LFC')\n",
       "3    ('PCF', 'ANIK')\n",
       "4    ('NDSN', 'POL')\n",
       "Name: pairs, dtype: object"
      ]
     },
     "execution_count": 20,
     "metadata": {},
     "output_type": "execute_result"
    }
   ],
   "source": [
    "stock_data.loc[:,\"pairs\"].head() # .loc can also be used to access columns "
   ]
  },
  {
   "cell_type": "markdown",
   "metadata": {},
   "source": [
    "Remember to feed a list when you want to select multiple columns or rows"
   ]
  },
  {
   "cell_type": "code",
   "execution_count": 21,
   "metadata": {
    "scrolled": true
   },
   "outputs": [
    {
     "data": {
      "text/html": [
       "<div>\n",
       "<style scoped>\n",
       "    .dataframe tbody tr th:only-of-type {\n",
       "        vertical-align: middle;\n",
       "    }\n",
       "\n",
       "    .dataframe tbody tr th {\n",
       "        vertical-align: top;\n",
       "    }\n",
       "\n",
       "    .dataframe thead th {\n",
       "        text-align: right;\n",
       "    }\n",
       "</style>\n",
       "<table border=\"1\" class=\"dataframe\">\n",
       "  <thead>\n",
       "    <tr style=\"text-align: right;\">\n",
       "      <th></th>\n",
       "      <th>pairs</th>\n",
       "      <th>total_return</th>\n",
       "    </tr>\n",
       "  </thead>\n",
       "  <tbody>\n",
       "    <tr>\n",
       "      <th>0</th>\n",
       "      <td>('NYT', 'BANC')</td>\n",
       "      <td>-15.167593</td>\n",
       "    </tr>\n",
       "    <tr>\n",
       "      <th>1</th>\n",
       "      <td>('EEA', 'ESS')</td>\n",
       "      <td>0.121772</td>\n",
       "    </tr>\n",
       "    <tr>\n",
       "      <th>2</th>\n",
       "      <td>('BXP', 'LFC')</td>\n",
       "      <td>11.593686</td>\n",
       "    </tr>\n",
       "    <tr>\n",
       "      <th>3</th>\n",
       "      <td>('PCF', 'ANIK')</td>\n",
       "      <td>0.021605</td>\n",
       "    </tr>\n",
       "    <tr>\n",
       "      <th>4</th>\n",
       "      <td>('NDSN', 'POL')</td>\n",
       "      <td>-3.719768</td>\n",
       "    </tr>\n",
       "  </tbody>\n",
       "</table>\n",
       "</div>"
      ],
      "text/plain": [
       "             pairs  total_return\n",
       "0  ('NYT', 'BANC')    -15.167593\n",
       "1   ('EEA', 'ESS')      0.121772\n",
       "2   ('BXP', 'LFC')     11.593686\n",
       "3  ('PCF', 'ANIK')      0.021605\n",
       "4  ('NDSN', 'POL')     -3.719768"
      ]
     },
     "execution_count": 21,
     "metadata": {},
     "output_type": "execute_result"
    }
   ],
   "source": [
    "stock_data.loc[:,[\"pairs\",\"total_return\"]].head()"
   ]
  },
  {
   "cell_type": "code",
   "execution_count": 22,
   "metadata": {
    "scrolled": true
   },
   "outputs": [
    {
     "data": {
      "text/html": [
       "<div>\n",
       "<style scoped>\n",
       "    .dataframe tbody tr th:only-of-type {\n",
       "        vertical-align: middle;\n",
       "    }\n",
       "\n",
       "    .dataframe tbody tr th {\n",
       "        vertical-align: top;\n",
       "    }\n",
       "\n",
       "    .dataframe thead th {\n",
       "        text-align: right;\n",
       "    }\n",
       "</style>\n",
       "<table border=\"1\" class=\"dataframe\">\n",
       "  <thead>\n",
       "    <tr style=\"text-align: right;\">\n",
       "      <th></th>\n",
       "      <th>pairs</th>\n",
       "      <th>ave_return</th>\n",
       "      <th>total_return</th>\n",
       "      <th>volatility</th>\n",
       "      <th>sharp_ratio</th>\n",
       "    </tr>\n",
       "  </thead>\n",
       "  <tbody>\n",
       "    <tr>\n",
       "      <th>1</th>\n",
       "      <td>('EEA', 'ESS')</td>\n",
       "      <td>7.915179</td>\n",
       "      <td>0.121772</td>\n",
       "      <td>123.131991</td>\n",
       "      <td>0.000989</td>\n",
       "    </tr>\n",
       "    <tr>\n",
       "      <th>2</th>\n",
       "      <td>('BXP', 'LFC')</td>\n",
       "      <td>1194.149695</td>\n",
       "      <td>11.593686</td>\n",
       "      <td>88.070115</td>\n",
       "      <td>0.131642</td>\n",
       "    </tr>\n",
       "    <tr>\n",
       "      <th>3</th>\n",
       "      <td>('PCF', 'ANIK')</td>\n",
       "      <td>2.441353</td>\n",
       "      <td>0.021605</td>\n",
       "      <td>13.484533</td>\n",
       "      <td>0.001602</td>\n",
       "    </tr>\n",
       "    <tr>\n",
       "      <th>6</th>\n",
       "      <td>('AGR', 'MXIM')</td>\n",
       "      <td>2203.294225</td>\n",
       "      <td>21.600924</td>\n",
       "      <td>163.622809</td>\n",
       "      <td>0.132017</td>\n",
       "    </tr>\n",
       "    <tr>\n",
       "      <th>8</th>\n",
       "      <td>('PUK', 'UTX')</td>\n",
       "      <td>184.141559</td>\n",
       "      <td>1.629571</td>\n",
       "      <td>28.527874</td>\n",
       "      <td>0.057122</td>\n",
       "    </tr>\n",
       "  </tbody>\n",
       "</table>\n",
       "</div>"
      ],
      "text/plain": [
       "             pairs   ave_return  total_return  volatility  sharp_ratio\n",
       "1   ('EEA', 'ESS')     7.915179      0.121772  123.131991     0.000989\n",
       "2   ('BXP', 'LFC')  1194.149695     11.593686   88.070115     0.131642\n",
       "3  ('PCF', 'ANIK')     2.441353      0.021605   13.484533     0.001602\n",
       "6  ('AGR', 'MXIM')  2203.294225     21.600924  163.622809     0.132017\n",
       "8   ('PUK', 'UTX')   184.141559      1.629571   28.527874     0.057122"
      ]
     },
     "execution_count": 22,
     "metadata": {},
     "output_type": "execute_result"
    }
   ],
   "source": [
    "stock_data.loc[stock_data[\"ave_return\"]>0].head()"
   ]
  },
  {
   "cell_type": "markdown",
   "metadata": {},
   "source": [
    ".loc is for index access, which means you should feed index or index generator into .iloc[]"
   ]
  },
  {
   "cell_type": "code",
   "execution_count": 23,
   "metadata": {},
   "outputs": [
    {
     "data": {
      "text/html": [
       "<div>\n",
       "<style scoped>\n",
       "    .dataframe tbody tr th:only-of-type {\n",
       "        vertical-align: middle;\n",
       "    }\n",
       "\n",
       "    .dataframe tbody tr th {\n",
       "        vertical-align: top;\n",
       "    }\n",
       "\n",
       "    .dataframe thead th {\n",
       "        text-align: right;\n",
       "    }\n",
       "</style>\n",
       "<table border=\"1\" class=\"dataframe\">\n",
       "  <thead>\n",
       "    <tr style=\"text-align: right;\">\n",
       "      <th></th>\n",
       "      <th>pairs</th>\n",
       "      <th>ave_return</th>\n",
       "      <th>total_return</th>\n",
       "      <th>volatility</th>\n",
       "      <th>sharp_ratio</th>\n",
       "    </tr>\n",
       "  </thead>\n",
       "  <tbody>\n",
       "    <tr>\n",
       "      <th>0</th>\n",
       "      <td>('NYT', 'BANC')</td>\n",
       "      <td>-1683.602874</td>\n",
       "      <td>-15.167593</td>\n",
       "      <td>139.660600</td>\n",
       "      <td>-0.108603</td>\n",
       "    </tr>\n",
       "    <tr>\n",
       "      <th>1</th>\n",
       "      <td>('EEA', 'ESS')</td>\n",
       "      <td>7.915179</td>\n",
       "      <td>0.121772</td>\n",
       "      <td>123.131991</td>\n",
       "      <td>0.000989</td>\n",
       "    </tr>\n",
       "  </tbody>\n",
       "</table>\n",
       "</div>"
      ],
      "text/plain": [
       "             pairs   ave_return  total_return  volatility  sharp_ratio\n",
       "0  ('NYT', 'BANC') -1683.602874    -15.167593  139.660600    -0.108603\n",
       "1   ('EEA', 'ESS')     7.915179      0.121772  123.131991     0.000989"
      ]
     },
     "execution_count": 23,
     "metadata": {},
     "output_type": "execute_result"
    }
   ],
   "source": [
    "stock_data.loc[[True,True,False]] #Boolean can be feeded into .loc, empty means false"
   ]
  },
  {
   "cell_type": "markdown",
   "metadata": {},
   "source": [
    "To use more complex selection, you can use lambda functions"
   ]
  },
  {
   "cell_type": "code",
   "execution_count": 24,
   "metadata": {},
   "outputs": [
    {
     "data": {
      "text/html": [
       "<div>\n",
       "<style scoped>\n",
       "    .dataframe tbody tr th:only-of-type {\n",
       "        vertical-align: middle;\n",
       "    }\n",
       "\n",
       "    .dataframe tbody tr th {\n",
       "        vertical-align: top;\n",
       "    }\n",
       "\n",
       "    .dataframe thead th {\n",
       "        text-align: right;\n",
       "    }\n",
       "</style>\n",
       "<table border=\"1\" class=\"dataframe\">\n",
       "  <thead>\n",
       "    <tr style=\"text-align: right;\">\n",
       "      <th></th>\n",
       "      <th>pairs</th>\n",
       "      <th>ave_return</th>\n",
       "      <th>total_return</th>\n",
       "      <th>volatility</th>\n",
       "      <th>sharp_ratio</th>\n",
       "    </tr>\n",
       "  </thead>\n",
       "  <tbody>\n",
       "    <tr>\n",
       "      <th>4684</th>\n",
       "      <td>('ITG', 'OIS')</td>\n",
       "      <td>inf</td>\n",
       "      <td>inf</td>\n",
       "      <td>NaN</td>\n",
       "      <td>NaN</td>\n",
       "    </tr>\n",
       "    <tr>\n",
       "      <th>12016</th>\n",
       "      <td>('LEA', 'CTX')</td>\n",
       "      <td>1.873543e+08</td>\n",
       "      <td>1.510922e+06</td>\n",
       "      <td>1.684723e+07</td>\n",
       "      <td>0.089684</td>\n",
       "    </tr>\n",
       "    <tr>\n",
       "      <th>24034</th>\n",
       "      <td>('ENVA', 'CTX')</td>\n",
       "      <td>1.718711e+08</td>\n",
       "      <td>1.386057e+06</td>\n",
       "      <td>1.537679e+07</td>\n",
       "      <td>0.090140</td>\n",
       "    </tr>\n",
       "    <tr>\n",
       "      <th>34122</th>\n",
       "      <td>('TVPT', 'FULT')</td>\n",
       "      <td>inf</td>\n",
       "      <td>inf</td>\n",
       "      <td>NaN</td>\n",
       "      <td>NaN</td>\n",
       "    </tr>\n",
       "    <tr>\n",
       "      <th>42235</th>\n",
       "      <td>('FOE', 'AOD')</td>\n",
       "      <td>inf</td>\n",
       "      <td>inf</td>\n",
       "      <td>NaN</td>\n",
       "      <td>NaN</td>\n",
       "    </tr>\n",
       "    <tr>\n",
       "      <th>42749</th>\n",
       "      <td>('ALTR', 'EPD')</td>\n",
       "      <td>inf</td>\n",
       "      <td>inf</td>\n",
       "      <td>NaN</td>\n",
       "      <td>NaN</td>\n",
       "    </tr>\n",
       "    <tr>\n",
       "      <th>46295</th>\n",
       "      <td>('FORM', 'AMSF')</td>\n",
       "      <td>inf</td>\n",
       "      <td>inf</td>\n",
       "      <td>NaN</td>\n",
       "      <td>NaN</td>\n",
       "    </tr>\n",
       "    <tr>\n",
       "      <th>46678</th>\n",
       "      <td>('GS', 'ONB')</td>\n",
       "      <td>inf</td>\n",
       "      <td>inf</td>\n",
       "      <td>NaN</td>\n",
       "      <td>NaN</td>\n",
       "    </tr>\n",
       "    <tr>\n",
       "      <th>54771</th>\n",
       "      <td>('NOV', 'CTX')</td>\n",
       "      <td>1.789989e+08</td>\n",
       "      <td>1.443540e+06</td>\n",
       "      <td>1.601276e+07</td>\n",
       "      <td>0.090149</td>\n",
       "    </tr>\n",
       "  </tbody>\n",
       "</table>\n",
       "</div>"
      ],
      "text/plain": [
       "                  pairs    ave_return  total_return    volatility  sharp_ratio\n",
       "4684     ('ITG', 'OIS')           inf           inf           NaN          NaN\n",
       "12016    ('LEA', 'CTX')  1.873543e+08  1.510922e+06  1.684723e+07     0.089684\n",
       "24034   ('ENVA', 'CTX')  1.718711e+08  1.386057e+06  1.537679e+07     0.090140\n",
       "34122  ('TVPT', 'FULT')           inf           inf           NaN          NaN\n",
       "42235    ('FOE', 'AOD')           inf           inf           NaN          NaN\n",
       "42749   ('ALTR', 'EPD')           inf           inf           NaN          NaN\n",
       "46295  ('FORM', 'AMSF')           inf           inf           NaN          NaN\n",
       "46678     ('GS', 'ONB')           inf           inf           NaN          NaN\n",
       "54771    ('NOV', 'CTX')  1.789989e+08  1.443540e+06  1.601276e+07     0.090149"
      ]
     },
     "execution_count": 24,
     "metadata": {},
     "output_type": "execute_result"
    }
   ],
   "source": [
    "stock_data.loc[lambda stock_data:stock_data[\"total_return\"]>200000]"
   ]
  },
  {
   "cell_type": "markdown",
   "metadata": {},
   "source": [
    "# One Last Thing\n",
    "\n",
    "As a good practice, you should always use .loc to set value. Because if you use direct access, like stock_data[\"pairs\"], Python will return a copy of the Dataframe, which is not changeable."
   ]
  },
  {
   "cell_type": "code",
   "execution_count": 25,
   "metadata": {},
   "outputs": [],
   "source": [
    "stock_data.loc[0,\"ave_return\"] = 0"
   ]
  },
  {
   "cell_type": "code",
   "execution_count": 26,
   "metadata": {},
   "outputs": [
    {
     "data": {
      "text/html": [
       "<div>\n",
       "<style scoped>\n",
       "    .dataframe tbody tr th:only-of-type {\n",
       "        vertical-align: middle;\n",
       "    }\n",
       "\n",
       "    .dataframe tbody tr th {\n",
       "        vertical-align: top;\n",
       "    }\n",
       "\n",
       "    .dataframe thead th {\n",
       "        text-align: right;\n",
       "    }\n",
       "</style>\n",
       "<table border=\"1\" class=\"dataframe\">\n",
       "  <thead>\n",
       "    <tr style=\"text-align: right;\">\n",
       "      <th></th>\n",
       "      <th>pairs</th>\n",
       "      <th>ave_return</th>\n",
       "      <th>total_return</th>\n",
       "      <th>volatility</th>\n",
       "      <th>sharp_ratio</th>\n",
       "    </tr>\n",
       "  </thead>\n",
       "  <tbody>\n",
       "    <tr>\n",
       "      <th>0</th>\n",
       "      <td>('NYT', 'BANC')</td>\n",
       "      <td>0.000000</td>\n",
       "      <td>-15.167593</td>\n",
       "      <td>139.660600</td>\n",
       "      <td>-0.108603</td>\n",
       "    </tr>\n",
       "    <tr>\n",
       "      <th>1</th>\n",
       "      <td>('EEA', 'ESS')</td>\n",
       "      <td>7.915179</td>\n",
       "      <td>0.121772</td>\n",
       "      <td>123.131991</td>\n",
       "      <td>0.000989</td>\n",
       "    </tr>\n",
       "    <tr>\n",
       "      <th>2</th>\n",
       "      <td>('BXP', 'LFC')</td>\n",
       "      <td>1194.149695</td>\n",
       "      <td>11.593686</td>\n",
       "      <td>88.070115</td>\n",
       "      <td>0.131642</td>\n",
       "    </tr>\n",
       "    <tr>\n",
       "      <th>3</th>\n",
       "      <td>('PCF', 'ANIK')</td>\n",
       "      <td>2.441353</td>\n",
       "      <td>0.021605</td>\n",
       "      <td>13.484533</td>\n",
       "      <td>0.001602</td>\n",
       "    </tr>\n",
       "    <tr>\n",
       "      <th>4</th>\n",
       "      <td>('NDSN', 'POL')</td>\n",
       "      <td>-293.861701</td>\n",
       "      <td>-3.719768</td>\n",
       "      <td>36.593718</td>\n",
       "      <td>-0.101650</td>\n",
       "    </tr>\n",
       "  </tbody>\n",
       "</table>\n",
       "</div>"
      ],
      "text/plain": [
       "             pairs   ave_return  total_return  volatility  sharp_ratio\n",
       "0  ('NYT', 'BANC')     0.000000    -15.167593  139.660600    -0.108603\n",
       "1   ('EEA', 'ESS')     7.915179      0.121772  123.131991     0.000989\n",
       "2   ('BXP', 'LFC')  1194.149695     11.593686   88.070115     0.131642\n",
       "3  ('PCF', 'ANIK')     2.441353      0.021605   13.484533     0.001602\n",
       "4  ('NDSN', 'POL')  -293.861701     -3.719768   36.593718    -0.101650"
      ]
     },
     "execution_count": 26,
     "metadata": {},
     "output_type": "execute_result"
    }
   ],
   "source": [
    "stock_data.head()"
   ]
  },
  {
   "cell_type": "markdown",
   "metadata": {},
   "source": [
    "# Series & Numpy Array\n",
    "\n",
    "Pandas's Series is internally Numpy Array. In the following demonstration, you will see if you take .values of the Series, you get an array."
   ]
  },
  {
   "cell_type": "code",
   "execution_count": 30,
   "metadata": {},
   "outputs": [
    {
     "data": {
      "text/plain": [
       "array([\"('NYT', 'BANC')\", \"('EEA', 'ESS')\", \"('BXP', 'LFC')\",\n",
       "       \"('PCF', 'ANIK')\", \"('NDSN', 'POL')\"], dtype=object)"
      ]
     },
     "execution_count": 30,
     "metadata": {},
     "output_type": "execute_result"
    }
   ],
   "source": [
    "stock_data.head()[\"pairs\"].values"
   ]
  }
 ],
 "metadata": {
  "kernelspec": {
   "display_name": "Python 2",
   "language": "python",
   "name": "python2"
  },
  "language_info": {
   "codemirror_mode": {
    "name": "ipython",
    "version": 2
   },
   "file_extension": ".py",
   "mimetype": "text/x-python",
   "name": "python",
   "nbconvert_exporter": "python",
   "pygments_lexer": "ipython2",
   "version": "2.7.15"
  },
  "widgets": {
   "application/vnd.jupyter.widget-state+json": {
    "state": {},
    "version_major": 2,
    "version_minor": 0
   }
  }
 },
 "nbformat": 4,
 "nbformat_minor": 2
}
