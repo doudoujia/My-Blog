{
 "cells": [
  {
   "cell_type": "markdown",
   "metadata": {},
   "source": [
    "Import our data getting library, I just name it data_source_lib.py in my folder"
   ]
  },
  {
   "cell_type": "code",
   "execution_count": null,
   "metadata": {},
   "outputs": [],
   "source": [
    "from data_source_lib import *"
   ]
  },
  {
   "cell_type": "code",
   "execution_count": 54,
   "metadata": {},
   "outputs": [],
   "source": [
    "\n",
    "def beta(ticker,bench = \"SPY\", interval=\"day\"):    \n",
    "    # will return a dataframe     \n",
    "    betas = []\n",
    "    volos = []\n",
    "    data_get = get_stock_data([bench,ticker],freq = \"daily\")  \n",
    "    data_get = data_get.get_ondemand_data()\n",
    "    ben_mark= data_get[data_get.Ticker == bench]\n",
    "    stock = data_get[data_get.Ticker == ticker]\n",
    "        # get return and put them in a new dataframe\n",
    "    ben_mark = ben_mark.rename(columns={\"Return\":bench + \"_bench_re\",\"Ticker\":bench}).reset_index()\n",
    "    stock = stock.rename(columns={\"Return\":ticker + \"_stock_re\",\"Ticker\":ticker}).reset_index()\n",
    "    new = pd.concat([ben_mark,stock],axis =1)\n",
    "    new = new[[bench,bench + \"_bench_re\",ticker, ticker + \"_stock_re\" ]]\n",
    "    new = new.dropna()\n",
    "    #calculate beta using covariance matrix\n",
    "    covmat = np.cov(new[bench+ \"_bench_re\"],new[ticker+ \"_stock_re\"])\n",
    "    #beta calculation\n",
    "    beta = covmat[0,1]/  np.sqrt(covmat[1,1]*covmat[0,0])\n",
    "    volotity = np.sqrt(covmat[1,1])\n",
    "    betas.append(beta)\n",
    "    volos.append(volotity)\n",
    "    betas = pd.DataFrame(betas)\n",
    "    betas.columns=[\"Beta\"]\n",
    "    return betas, covmat, volos"
   ]
  },
  {
   "cell_type": "code",
   "execution_count": 57,
   "metadata": {},
   "outputs": [
    {
     "name": "stdout",
     "output_type": "stream",
     "text": [
      "Finished AAPL\n"
     ]
    },
    {
     "name": "stderr",
     "output_type": "stream",
     "text": [
      "100%|████████████████████████████████████████████████████████████████████████████████████| 2/2 [00:01<00:00,  1.81it/s]\n"
     ]
    },
    {
     "data": {
      "text/html": [
       "<div>\n",
       "<style scoped>\n",
       "    .dataframe tbody tr th:only-of-type {\n",
       "        vertical-align: middle;\n",
       "    }\n",
       "\n",
       "    .dataframe tbody tr th {\n",
       "        vertical-align: top;\n",
       "    }\n",
       "\n",
       "    .dataframe thead th {\n",
       "        text-align: right;\n",
       "    }\n",
       "</style>\n",
       "<table border=\"1\" class=\"dataframe\">\n",
       "  <thead>\n",
       "    <tr style=\"text-align: right;\">\n",
       "      <th></th>\n",
       "      <th>Beta</th>\n",
       "    </tr>\n",
       "  </thead>\n",
       "  <tbody>\n",
       "    <tr>\n",
       "      <th>0</th>\n",
       "      <td>0.559557</td>\n",
       "    </tr>\n",
       "  </tbody>\n",
       "</table>\n",
       "</div>"
      ],
      "text/plain": [
       "       Beta\n",
       "0  0.559557"
      ]
     },
     "execution_count": 57,
     "metadata": {},
     "output_type": "execute_result"
    }
   ],
   "source": [
    "beta(\"AAPL\")[0]"
   ]
  }
 ],
 "metadata": {
  "kernelspec": {
   "display_name": "Python 2",
   "language": "python",
   "name": "python2"
  },
  "language_info": {
   "codemirror_mode": {
    "name": "ipython",
    "version": 2
   },
   "file_extension": ".py",
   "mimetype": "text/x-python",
   "name": "python",
   "nbconvert_exporter": "python",
   "pygments_lexer": "ipython2",
   "version": "2.7.14"
  }
 },
 "nbformat": 4,
 "nbformat_minor": 2
}
