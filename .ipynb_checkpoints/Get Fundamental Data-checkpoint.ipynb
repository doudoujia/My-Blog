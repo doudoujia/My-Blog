{
 "cells": [
  {
   "cell_type": "code",
   "execution_count": 3,
   "metadata": {},
   "outputs": [],
   "source": [
    "import pandas as pd\n",
    "from datetime import datetime, timedelta\n",
    "import requests as re\n",
    "import json\n",
    "import urllib as ur\n",
    "from enum import Enum"
   ]
  },
  {
   "cell_type": "code",
   "execution_count": 79,
   "metadata": {},
   "outputs": [],
   "source": [
    "class fundamentals(Enum):\n",
    "    income = \"income_statement\"\n",
    "    cash = \"cashflow_statement\"\n",
    "    pl = \"profit_and_lost_statement\"\n",
    "\n",
    "class get_fundamentals():\n",
    "    \n",
    "    def __init__(self, ticker, fun, output =\"table\"):\n",
    "        if not isinstance(fun, fundamentals):\n",
    "            raise \"should input a instance of fundamentals\"\n",
    "        self.ticker = ticker.upper()\n",
    "        self.fun = fun\n",
    "        self.output = \"table\"\n",
    "        self.result = {}\n",
    "\n",
    "\n",
    "            \n",
    "    def data_bulk_output(self):\n",
    "       \n",
    "        \n",
    "        if self.output == \"table\":\n",
    "            \n",
    "            return self.result\n",
    "          \n",
    "        \n",
    "    def get_fundamentals_data(self):\n",
    "        trial=0\n",
    "        while trial < 3:\n",
    "            try:\n",
    "                profile=\"https://financialmodelingprep.com/api/financials/{}/{}\".format(self.fun.value,self.ticker)\n",
    "\n",
    "                temp = re.get(profile,verify=False).text\n",
    "\n",
    "                temp=temp.replace(\"\\n\",\"\")\n",
    "\n",
    "                temp = temp.replace(\"<pre>\",\"\")\n",
    "\n",
    "                temp= json.loads(temp)\n",
    "\n",
    "                temp = pd.DataFrame(temp[self.ticker])\n",
    "\n",
    "                self.result[self.ticker] =temp\n",
    "\n",
    "                return temp\n",
    "            \n",
    "            except Exception as e:\n",
    "                print e\n",
    "                trial+=1\n",
    "            \n",
    "        \n",
    "        \n",
    "    "
   ]
  },
  {
   "cell_type": "code",
   "execution_count": 80,
   "metadata": {},
   "outputs": [
    {
     "ename": "AttributeError",
     "evalue": "get_fundamentals instance has no attribute 'get_fundamantals_data'",
     "output_type": "error",
     "traceback": [
      "\u001b[1;31m---------------------------------------------------------------------------\u001b[0m",
      "\u001b[1;31mAttributeError\u001b[0m                            Traceback (most recent call last)",
      "\u001b[1;32m<ipython-input-80-f1552160c1d2>\u001b[0m in \u001b[0;36m<module>\u001b[1;34m()\u001b[0m\n\u001b[0;32m      2\u001b[0m \u001b[0mfoo\u001b[0m \u001b[1;33m=\u001b[0m \u001b[0mget_fundamentals\u001b[0m\u001b[1;33m\u001b[0m\u001b[0m\n\u001b[0;32m      3\u001b[0m \u001b[0mfoo\u001b[0m \u001b[1;33m=\u001b[0m \u001b[0mfoo\u001b[0m\u001b[1;33m(\u001b[0m\u001b[1;34m\"AAPL\"\u001b[0m\u001b[1;33m,\u001b[0m\u001b[0mmy\u001b[0m\u001b[1;33m)\u001b[0m\u001b[1;33m\u001b[0m\u001b[0m\n\u001b[1;32m----> 4\u001b[1;33m \u001b[0mfoo\u001b[0m\u001b[1;33m.\u001b[0m\u001b[0mget_fundamantals_data\u001b[0m\u001b[1;33m(\u001b[0m\u001b[1;33m)\u001b[0m\u001b[1;33m\u001b[0m\u001b[0m\n\u001b[0m",
      "\u001b[1;31mAttributeError\u001b[0m: get_fundamentals instance has no attribute 'get_fundamantals_data'"
     ]
    }
   ],
   "source": [
    "my = fundamentals.income\n",
    "foo = get_fundamentals\n",
    "foo = foo(\"AAPL\",my)\n",
    "foo.get_fundamantals_data()"
   ]
  },
  {
   "cell_type": "code",
   "execution_count": null,
   "metadata": {},
   "outputs": [],
   "source": []
  },
  {
   "cell_type": "code",
   "execution_count": null,
   "metadata": {},
   "outputs": [],
   "source": []
  }
 ],
 "metadata": {
  "kernelspec": {
   "display_name": "Python 2",
   "language": "python",
   "name": "python2"
  },
  "language_info": {
   "codemirror_mode": {
    "name": "ipython",
    "version": 2
   },
   "file_extension": ".py",
   "mimetype": "text/x-python",
   "name": "python",
   "nbconvert_exporter": "python",
   "pygments_lexer": "ipython2",
   "version": "2.7.14"
  }
 },
 "nbformat": 4,
 "nbformat_minor": 2
}
