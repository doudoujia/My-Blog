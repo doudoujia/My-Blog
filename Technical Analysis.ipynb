{
 "cells": [
  {
   "cell_type": "code",
   "execution_count": 16,
   "metadata": {},
   "outputs": [],
   "source": [
    "import talib as ta\n",
    "import data_source_lib as da\n"
   ]
  },
  {
   "cell_type": "code",
   "execution_count": 15,
   "metadata": {
    "scrolled": true
   },
   "outputs": [
    {
     "name": "stdout",
     "output_type": "stream",
     "text": [
      "Finished AAPL\n"
     ]
    },
    {
     "name": "stderr",
     "output_type": "stream",
     "text": [
      "100%|████████████████████████████████████████████████████████████████████████████████████| 1/1 [00:00<00:00,  1.56it/s]\n"
     ]
    }
   ],
   "source": [
    "get_data = da.get_stock_data([\"AAPL\"],freq = \"daily\")\n",
    "price = get_data.get_ondemand_data()"
   ]
  },
  {
   "cell_type": "code",
   "execution_count": 40,
   "metadata": {},
   "outputs": [],
   "source": [
    " def get_technicals(price) :\n",
    "    import pandas as pd\n",
    "    import tqdm\n",
    "    from IPython.display import clear_output\n",
    "    if not isinstance(price, pd.DataFrame):\n",
    "        raise \"Please feed a DataFrame object\"\n",
    "    for i in tqdm.tqdm(range(len(set(price.Ticker)))):\n",
    "       \n",
    "       \n",
    "        i = list(set(price.Ticker))\n",
    "        #print price .loc[price.Ticker==i]\n",
    "\n",
    "        #price.groupby('Ticker').get_group(list(set(price.Ticker))[i])\n",
    "        #price.loc[price.Ticker==i,\"ADX\"]= ta.ADX(price.loc[price.Ticker==i].High.values, price.loc[price.Ticker==i].Low.values, price.loc[price.Ticker==i].Close.values, timeperiod=14)\n",
    "        price.loc[price.Ticker==i,\"ADXR\"]= ta.ADXR(price.loc[price.Ticker==i].High.values, price.loc[price.Ticker==i].Low.values,\\\n",
    "                                                   price.loc[price.Ticker==i].Close.values, timeperiod=14)\n",
    "        price.loc[price.Ticker==i,\"APO\"]= ta.APO(price.loc[price.Ticker==i].Close.values, fastperiod=12, slowperiod=26, matype=0)\n",
    "        price.loc[price.Ticker==i,\"AROONOSC\"]= ta.AROONOSC(price.loc[price.Ticker==i].High.values,price.loc[price.Ticker==i].Close.values, timeperiod=14)\n",
    "        price.loc[price.Ticker==i,\"CCI\"]= ta.CCI(price.loc[price.Ticker==i].High.values,price.loc[price.Ticker==i].Low.values,price.loc[price.Ticker==i].Close.values, timeperiod=14)\n",
    "        price.loc[price.Ticker==i,\"MFI\"]= ta.MFI(price.loc[price.Ticker==i].High.values, price.loc[price.Ticker==i].Low.values, price.loc[price.Ticker==i].Close.values,\\\n",
    "                                                 price.loc[price.Ticker==i].loc[price.Ticker==i].Volume.values.astype(float),timeperiod=14)\n",
    "        price.loc[price.Ticker==i,\"MACD\"], price.loc[price.Ticker==i,\"MACD_signal\"], price.loc[price.Ticker==i,\"MACD_hist\"] = ta.MACD(price.loc[price.Ticker==i].Close.values, fastperiod=12, slowperiod=26, signalperiod=9)\n",
    "        price.loc[price.Ticker==i,\"ROCP\"]= ta.ROCP(price.loc[price.Ticker==i].Close.values, timeperiod=10)\n",
    "        #price.loc[price.Ticker==i,\"ROCR100\"]= ta.ROCR100(price.loc[price.Ticker==i].Close.values, timeperiod=10)\n",
    "        price.loc[price.Ticker==i,\"RSI\"]= ta.RSI(price.loc[price.Ticker==i].Close.values, timeperiod=14)\n",
    "        price.loc[price.Ticker==i,\"MA_fast\"] = price.Close.rolling(10).mean()\n",
    "        price.loc[price.Ticker==i,\"MA_slow\"] = price.Close.rolling(30).mean()\n",
    "        clear_output()\n",
    "        print \"\\nDone:\", i"
   ]
  },
  {
   "cell_type": "code",
   "execution_count": null,
   "metadata": {},
   "outputs": [],
   "source": []
  }
 ],
 "metadata": {
  "kernelspec": {
   "display_name": "Python 2",
   "language": "python",
   "name": "python2"
  },
  "language_info": {
   "codemirror_mode": {
    "name": "ipython",
    "version": 2
   },
   "file_extension": ".py",
   "mimetype": "text/x-python",
   "name": "python",
   "nbconvert_exporter": "python",
   "pygments_lexer": "ipython2",
   "version": "2.7.14"
  }
 },
 "nbformat": 4,
 "nbformat_minor": 2
}
